{
 "cells": [
  {
   "cell_type": "code",
   "execution_count": 8,
   "id": "3fa91071-73a8-4cc1-ac1b-e90fe0802801",
   "metadata": {},
   "outputs": [],
   "source": [
    "import warnings \n",
    "import pennylane as qml\n",
    "import pennylane.numpy as np\n",
    "from scipy.optimize import minimize\n",
    "\n",
    "warnings.filterwarnings('ignore') "
   ]
  },
  {
   "cell_type": "code",
   "execution_count": 2,
   "id": "75f99d83",
   "metadata": {},
   "outputs": [],
   "source": [
    "dev = qml.device('qiskit.aer', wires=2, shots=1000)"
   ]
  },
  {
   "cell_type": "code",
   "execution_count": 27,
   "id": "149ada76",
   "metadata": {},
   "outputs": [],
   "source": [
    "@qml.qnode(dev)\n",
    "def circuit(weights, train=True):\n",
    "    \"\"\"\n",
    "        this circuit is meant to be optimized to return only bit strings that contain a single \n",
    "        value one.\n",
    "    \"\"\"\n",
    "\n",
    "    for qubit,weight in enumerate(weights):\n",
    "        qml.RY(weight, wires=qubit)\n",
    "\n",
    "    if(train):\n",
    "        H = 0.5*(qml.PauliZ(0) @ qml.PauliZ(1)) # the ising hamiltonian for our problem\n",
    "        return qml.expval(H)\n",
    "    \n",
    "    return qml.counts()\n"
   ]
  },
  {
   "cell_type": "code",
   "execution_count": 9,
   "id": "a449d6dc",
   "metadata": {},
   "outputs": [],
   "source": [
    "x0 = np.random.uniform(0, np.pi, size=2, requires_grad=True)"
   ]
  },
  {
   "cell_type": "code",
   "execution_count": 10,
   "id": "331c8e4a",
   "metadata": {},
   "outputs": [
    {
     "data": {
      "text/plain": [
       " message: Optimization terminated successfully.\n",
       " success: True\n",
       "  status: 1\n",
       "     fun: -0.498\n",
       "       x: [ 3.087e+00  2.332e-02]\n",
       "    nfev: 30\n",
       "   maxcv: 0.0"
      ]
     },
     "execution_count": 10,
     "metadata": {},
     "output_type": "execute_result"
    }
   ],
   "source": [
    "minimized = minimize(circuit, x0=x0, method=\"COBYLA\")\n",
    "minimized"
   ]
  },
  {
   "cell_type": "code",
   "execution_count": 26,
   "id": "cd811b2a",
   "metadata": {},
   "outputs": [
    {
     "name": "stdout",
     "output_type": "stream",
     "text": [
      "00 appeared 1 times\n",
      "10 appeared 999 times\n"
     ]
    }
   ],
   "source": [
    "# the trained model returns, almost, always the bit strings we were expecting it to\n",
    "results = circuit(minimized.x, train=False)\n",
    "\n",
    "for bit_string, total in results.items():\n",
    "    print(f\"{bit_string} appeared {total} times\")"
   ]
  }
 ],
 "metadata": {
  "kernelspec": {
   "display_name": "path-optimization",
   "language": "python",
   "name": "python3"
  },
  "language_info": {
   "codemirror_mode": {
    "name": "ipython",
    "version": 3
   },
   "file_extension": ".py",
   "mimetype": "text/x-python",
   "name": "python",
   "nbconvert_exporter": "python",
   "pygments_lexer": "ipython3",
   "version": "3.12.7"
  }
 },
 "nbformat": 4,
 "nbformat_minor": 5
}
