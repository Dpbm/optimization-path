{
 "cells": [
  {
   "cell_type": "code",
   "execution_count": 29,
   "id": "3fa91071-73a8-4cc1-ac1b-e90fe0802801",
   "metadata": {},
   "outputs": [],
   "source": [
    "import warnings \n",
    "from typing import List, Dict, Tuple, Callable, Union\n",
    "from math import pi\n",
    "from itertools import batched\n",
    "import pennylane as qml\n",
    "import pennylane.numpy as np\n",
    "from scipy.optimize import minimize\n",
    "from qiskit.visualization import plot_histogram\n",
    "from tqdm import tqdm\n",
    "\n",
    "from data import  relations, starting_point, encode_angle, labels, labels_index, nodes_index_relations_split\n",
    "  \n",
    "  \n",
    "warnings.filterwarnings('ignore') "
   ]
  },
  {
   "cell_type": "markdown",
   "id": "0e1ae671-ccb4-4cfe-a7b9-6c4025483fcb",
   "metadata": {},
   "source": [
    "![graph](./assets/graph.png)"
   ]
  },
  {
   "cell_type": "code",
   "execution_count": 8,
   "id": "3d35c753-ddf7-4109-9b03-603106b27a09",
   "metadata": {},
   "outputs": [],
   "source": [
    "steps = n_qubits = len(labels)-1 # at each step, the algorithm can choose between all different nodes except A (once it's starting node)\n",
    "qubits_iter = range(n_qubits)\n",
    "dev = qml.device('qiskit.aer', wires=n_qubits, shots=1000)"
   ]
  },
  {
   "cell_type": "code",
   "execution_count": 33,
   "id": "c53c18bb",
   "metadata": {},
   "outputs": [],
   "source": [
    "type Model = Callable[List[float], float, Union[qml.Hamiltonian, None], bool]\n",
    "type Distances = List[float]\n",
    "type Weights = List[float]\n",
    "type DistancesRelations = Dict[str,float]"
   ]
  },
  {
   "cell_type": "code",
   "execution_count": 34,
   "id": "78e45330-3fbc-41b1-bb25-a29c12b41802",
   "metadata": {},
   "outputs": [],
   "source": [
    "@qml.qnode(dev)\n",
    "def model(\n",
    "    distances:Distances,\n",
    "    current_path_size:float, \n",
    "    weights:Weights,\n",
    "    hamiltonian:qml.Hamiltonian=None,\n",
    "    debug:bool=True\n",
    ") -> List[float]:\n",
    "\n",
    "    \"\"\"\n",
    "        Generates the qml model using PennyLane + Qiskit.\n",
    "\n",
    "        In total, the circuit contains 4 qubits in total but, except for the fist step, the algorithm itself uses only 3, once each step has a self \n",
    "        loop and a relation that returns to A, which are removed during the circuit setup.    \n",
    "    \"\"\"\n",
    "\n",
    "\n",
    "    # it's required once the scipy's minimize function expects a one dimensional list but BasicEntanglerLayers a multidimensional\n",
    "    weights = np.reshape(weights, (1,1,n_qubits))\n",
    "\n",
    "\n",
    "    distances = [ distance + current_path_size for distance in distances ] # get new distances based on the current path\n",
    "    farest_distance = max(distances)\n",
    "\n",
    "    if(debug):\n",
    "        print(f\"Distances: {distances}\")\n",
    "        print(f\"Farest Distance: {farest_distance}\")\n",
    "\n",
    "    for qubit,distance in enumerate(distances):\n",
    "        qml.RY(encode_angle(distance, farest_distance), wires=qubit)\n",
    "    qml.Barrier(wires=qubits_iter)\n",
    "    qml.BasicEntanglerLayers(rotation=qml.RY, weights=weights, wires=qubits_iter)\n",
    "\n",
    "    if(hamiltonian is not None):\n",
    "        return qml.expval(hamiltonian)\n",
    "    \n",
    "    return qml.counts()"
   ]
  },
  {
   "cell_type": "code",
   "execution_count": 35,
   "id": "e63d13a6",
   "metadata": {},
   "outputs": [],
   "source": [
    "def get_step_distances(current_node:str, distances_relations:DistancesRelations) -> Tuple[List[str], List[float]]:\n",
    "    \"\"\"\n",
    "        This function get all distances from inside the distances relations object and return it as a list.\n",
    "        \n",
    "        Based on the current node, the function get the distance if the node it leaves from is equal the current node, the nodes relation\n",
    "        doesn't generate a loop and it ensures that the next node is different from the starting point, which was visited already.\n",
    "\n",
    "        It also returns together with the distance the target node.  \n",
    "    \"\"\"\n",
    "    next_nodes = []\n",
    "    distances = []\n",
    "\n",
    "    for connection, distance in distances_relations.items():\n",
    "        if(connection[0] != current_node or connection[1] == starting_point or connection[0] == connection[1]):\n",
    "            continue\n",
    "\n",
    "        next_nodes.append(connection[1])\n",
    "        distances.append(distance)\n",
    "\n",
    "    return (next_nodes, distances)"
   ]
  },
  {
   "cell_type": "code",
   "execution_count": 80,
   "id": "c1974403",
   "metadata": {},
   "outputs": [],
   "source": [
    "def get_hamiltonian(distances:Distances) -> qml.Hamiltonian:\n",
    "    \"\"\"\n",
    "        It must create a hamiltonian based on the distances following the Ising Spin Model.\n",
    "\n",
    "        Also, it must add some Constraints to it, like one node per time. \n",
    "    \"\"\"\n",
    "\n",
    "\n",
    "    coeffs = [0.5 * distance for distance in distances]\n",
    "    obs = [qml.PauliZ(qubit) for qubit in range(len(distances))]\n",
    "\n",
    "    # constraints\n",
    "    P = 30\n",
    "    non_target_nodes = len(distances)-1\n",
    "    coeffs.append(P * (non_target_nodes - 1))\n",
    "    obs.append(qml.Identity(1))\n",
    "\n",
    "    coeffs = [*coeffs, *[P for _ in range(len(distances))]]\n",
    "    obs = [*obs, *[qml.PauliZ(qubit) for qubit in range(len(distances))]]\n",
    "\n",
    "    return qml.Hamiltonian(coeffs=coeffs, observables=obs)\n"
   ]
  },
  {
   "cell_type": "code",
   "execution_count": 81,
   "id": "d6318405",
   "metadata": {},
   "outputs": [],
   "source": [
    "def get_next_node(nodes:List[str], already_visited:List[str]) -> str:\n",
    "    random_node = lambda nodes: np.random.choice(nodes)\n",
    "    \n",
    "    next_node = random_node(nodes)\n",
    "    while next_node in already_visited:\n",
    "        next_node = random_node(nodes)\n",
    "\n",
    "    return next_node"
   ]
  },
  {
   "cell_type": "code",
   "execution_count": 85,
   "id": "89084729",
   "metadata": {},
   "outputs": [],
   "source": [
    "def train(weights:Weights, model:Model, relations:DistancesRelations) -> float:\n",
    "    path = []\n",
    "    total_expectation = 0\n",
    "    path_size = 0\n",
    "\n",
    "    current_node = starting_point\n",
    "\n",
    "    for step in trange(steps):\n",
    "        # evaluate\n",
    "        next_nodes, distances = get_step_distances(current_node, relations)\n",
    "        hamiltonian = get_hamiltonian(distances)\n",
    "        print(hamiltonian)\n",
    "        expectation_value = model(distances, path_size, weights, hamiltonian, debug=False)\n",
    "\n",
    "        total_expectation += expectation_value\n",
    "\n",
    "        # update values\n",
    "        new_node = get_next_node(next_nodes, path)\n",
    "        new_node_weight = distances[next_nodes.index(new_node)]\n",
    "        \n",
    "        path.append(new_node)\n",
    "        path_size += new_node_weight\n",
    "\n",
    "        current_node = new_node\n",
    "\n",
    "\n",
    "    return total_expectation"
   ]
  },
  {
   "cell_type": "code",
   "execution_count": 86,
   "id": "6c0236be",
   "metadata": {},
   "outputs": [
    {
     "name": "stderr",
     "output_type": "stream",
     "text": [
      " 25%|██▌       | 1/4 [00:00<00:00,  9.19it/s]"
     ]
    },
    {
     "name": "stdout",
     "output_type": "stream",
     "text": [
      "2.9 * Z(0) + 2.9 * Z(1) + 3.8 * Z(2) + 4.4 * Z(3) + 60 * I(1) + 30 * Z(0) + 30 * Z(1) + 30 * Z(2) + 30 * Z(3)\n",
      "0.85 * Z(0) + 1.75 * Z(1) + 2.35 * Z(2) + 30 * I(1) + 30 * Z(0) + 30 * Z(1) + 30 * Z(2)\n",
      "2.0 * Z(0) + 1.7 * Z(1) + 0.7 * Z(2) + 30 * I(1) + 30 * Z(0) + 30 * Z(1) + 30 * Z(2)\n"
     ]
    },
    {
     "name": "stderr",
     "output_type": "stream",
     "text": [
      "100%|██████████| 4/4 [00:00<00:00, 12.35it/s]\n"
     ]
    },
    {
     "name": "stdout",
     "output_type": "stream",
     "text": [
      "2.55 * Z(0) + 2.25 * Z(1) + 0.7 * Z(2) + 30 * I(1) + 30 * Z(0) + 30 * Z(1) + 30 * Z(2)\n"
     ]
    },
    {
     "name": "stderr",
     "output_type": "stream",
     "text": [
      "  0%|          | 0/4 [00:00<?, ?it/s]"
     ]
    },
    {
     "name": "stdout",
     "output_type": "stream",
     "text": [
      "2.9 * Z(0) + 2.9 * Z(1) + 3.8 * Z(2) + 4.4 * Z(3) + 60 * I(1) + 30 * Z(0) + 30 * Z(1) + 30 * Z(2) + 30 * Z(3)\n",
      "2.55 * Z(0) + 2.25 * Z(1) + 0.7 * Z(2) + 30 * I(1) + 30 * Z(0) + 30 * Z(1) + 30 * Z(2)\n"
     ]
    },
    {
     "name": "stderr",
     "output_type": "stream",
     "text": [
      " 50%|█████     | 2/4 [00:00<00:00, 11.34it/s]"
     ]
    },
    {
     "name": "stdout",
     "output_type": "stream",
     "text": [
      "1.2 * Z(0) + 2.15 * Z(1) + 2.15 * Z(2) + 30 * I(1) + 30 * Z(0) + 30 * Z(1) + 30 * Z(2)\n"
     ]
    },
    {
     "name": "stderr",
     "output_type": "stream",
     "text": [
      "100%|██████████| 4/4 [00:00<00:00, 12.24it/s]\n"
     ]
    },
    {
     "name": "stdout",
     "output_type": "stream",
     "text": [
      "0.85 * Z(0) + 1.75 * Z(1) + 2.35 * Z(2) + 30 * I(1) + 30 * Z(0) + 30 * Z(1) + 30 * Z(2)\n"
     ]
    },
    {
     "name": "stderr",
     "output_type": "stream",
     "text": [
      "  0%|          | 0/4 [00:00<?, ?it/s]"
     ]
    },
    {
     "name": "stdout",
     "output_type": "stream",
     "text": [
      "2.9 * Z(0) + 2.9 * Z(1) + 3.8 * Z(2) + 4.4 * Z(3) + 60 * I(1) + 30 * Z(0) + 30 * Z(1) + 30 * Z(2) + 30 * Z(3)\n",
      "2.55 * Z(0) + 2.25 * Z(1) + 0.7 * Z(2) + 30 * I(1) + 30 * Z(0) + 30 * Z(1) + 30 * Z(2)\n"
     ]
    },
    {
     "name": "stderr",
     "output_type": "stream",
     "text": [
      " 50%|█████     | 2/4 [00:00<00:00, 15.01it/s]"
     ]
    },
    {
     "name": "stdout",
     "output_type": "stream",
     "text": [
      "2.0 * Z(0) + 1.7 * Z(1) + 0.7 * Z(2) + 30 * I(1) + 30 * Z(0) + 30 * Z(1) + 30 * Z(2)\n",
      "0.85 * Z(0) + 1.75 * Z(1) + 2.35 * Z(2) + 30 * I(1) + 30 * Z(0) + 30 * Z(1) + 30 * Z(2)\n"
     ]
    },
    {
     "name": "stderr",
     "output_type": "stream",
     "text": [
      "100%|██████████| 4/4 [00:00<00:00, 14.87it/s]\n",
      "  0%|          | 0/4 [00:00<?, ?it/s]"
     ]
    },
    {
     "name": "stdout",
     "output_type": "stream",
     "text": [
      "2.9 * Z(0) + 2.9 * Z(1) + 3.8 * Z(2) + 4.4 * Z(3) + 60 * I(1) + 30 * Z(0) + 30 * Z(1) + 30 * Z(2) + 30 * Z(3)\n"
     ]
    },
    {
     "name": "stderr",
     "output_type": "stream",
     "text": [
      " 50%|█████     | 2/4 [00:00<00:00, 14.18it/s]"
     ]
    },
    {
     "name": "stdout",
     "output_type": "stream",
     "text": [
      "2.55 * Z(0) + 2.25 * Z(1) + 0.7 * Z(2) + 30 * I(1) + 30 * Z(0) + 30 * Z(1) + 30 * Z(2)\n",
      "0.85 * Z(0) + 1.75 * Z(1) + 2.35 * Z(2) + 30 * I(1) + 30 * Z(0) + 30 * Z(1) + 30 * Z(2)\n",
      "2.0 * Z(0) + 1.7 * Z(1) + 0.7 * Z(2) + 30 * I(1) + 30 * Z(0) + 30 * Z(1) + 30 * Z(2)\n"
     ]
    },
    {
     "name": "stderr",
     "output_type": "stream",
     "text": [
      "100%|██████████| 4/4 [00:00<00:00, 14.63it/s]\n",
      "  0%|          | 0/4 [00:00<?, ?it/s]"
     ]
    },
    {
     "name": "stdout",
     "output_type": "stream",
     "text": [
      "2.9 * Z(0) + 2.9 * Z(1) + 3.8 * Z(2) + 4.4 * Z(3) + 60 * I(1) + 30 * Z(0) + 30 * Z(1) + 30 * Z(2) + 30 * Z(3)\n"
     ]
    },
    {
     "name": "stderr",
     "output_type": "stream",
     "text": [
      " 50%|█████     | 2/4 [00:00<00:00, 15.16it/s]"
     ]
    },
    {
     "name": "stdout",
     "output_type": "stream",
     "text": [
      "2.55 * Z(0) + 2.25 * Z(1) + 0.7 * Z(2) + 30 * I(1) + 30 * Z(0) + 30 * Z(1) + 30 * Z(2)\n",
      "2.0 * Z(0) + 1.7 * Z(1) + 0.7 * Z(2) + 30 * I(1) + 30 * Z(0) + 30 * Z(1) + 30 * Z(2)\n",
      "1.2 * Z(0) + 2.15 * Z(1) + 2.15 * Z(2) + 30 * I(1) + 30 * Z(0) + 30 * Z(1) + 30 * Z(2)\n"
     ]
    },
    {
     "name": "stderr",
     "output_type": "stream",
     "text": [
      "100%|██████████| 4/4 [00:00<00:00, 15.20it/s]\n",
      "  0%|          | 0/4 [00:00<?, ?it/s]"
     ]
    },
    {
     "name": "stdout",
     "output_type": "stream",
     "text": [
      "2.9 * Z(0) + 2.9 * Z(1) + 3.8 * Z(2) + 4.4 * Z(3) + 60 * I(1) + 30 * Z(0) + 30 * Z(1) + 30 * Z(2) + 30 * Z(3)\n"
     ]
    },
    {
     "name": "stderr",
     "output_type": "stream",
     "text": [
      " 50%|█████     | 2/4 [00:00<00:00, 14.73it/s]"
     ]
    },
    {
     "name": "stdout",
     "output_type": "stream",
     "text": [
      "1.2 * Z(0) + 2.15 * Z(1) + 2.15 * Z(2) + 30 * I(1) + 30 * Z(0) + 30 * Z(1) + 30 * Z(2)\n",
      "2.55 * Z(0) + 2.25 * Z(1) + 0.7 * Z(2) + 30 * I(1) + 30 * Z(0) + 30 * Z(1) + 30 * Z(2)\n"
     ]
    },
    {
     "name": "stderr",
     "output_type": "stream",
     "text": [
      "100%|██████████| 4/4 [00:00<00:00,  9.83it/s]\n"
     ]
    },
    {
     "name": "stdout",
     "output_type": "stream",
     "text": [
      "2.0 * Z(0) + 1.7 * Z(1) + 0.7 * Z(2) + 30 * I(1) + 30 * Z(0) + 30 * Z(1) + 30 * Z(2)\n"
     ]
    },
    {
     "name": "stderr",
     "output_type": "stream",
     "text": [
      " 50%|█████     | 2/4 [00:00<00:00, 15.98it/s]"
     ]
    },
    {
     "name": "stdout",
     "output_type": "stream",
     "text": [
      "2.9 * Z(0) + 2.9 * Z(1) + 3.8 * Z(2) + 4.4 * Z(3) + 60 * I(1) + 30 * Z(0) + 30 * Z(1) + 30 * Z(2) + 30 * Z(3)\n",
      "0.85 * Z(0) + 1.75 * Z(1) + 2.35 * Z(2) + 30 * I(1) + 30 * Z(0) + 30 * Z(1) + 30 * Z(2)\n",
      "1.2 * Z(0) + 2.15 * Z(1) + 2.15 * Z(2) + 30 * I(1) + 30 * Z(0) + 30 * Z(1) + 30 * Z(2)\n",
      "2.0 * Z(0) + 1.7 * Z(1) + 0.7 * Z(2) + 30 * I(1) + 30 * Z(0) + 30 * Z(1) + 30 * Z(2)\n"
     ]
    },
    {
     "name": "stderr",
     "output_type": "stream",
     "text": [
      "100%|██████████| 4/4 [00:00<00:00, 15.54it/s]\n",
      " 50%|█████     | 2/4 [00:00<00:00, 16.01it/s]"
     ]
    },
    {
     "name": "stdout",
     "output_type": "stream",
     "text": [
      "2.9 * Z(0) + 2.9 * Z(1) + 3.8 * Z(2) + 4.4 * Z(3) + 60 * I(1) + 30 * Z(0) + 30 * Z(1) + 30 * Z(2) + 30 * Z(3)\n",
      "0.85 * Z(0) + 1.75 * Z(1) + 2.35 * Z(2) + 30 * I(1) + 30 * Z(0) + 30 * Z(1) + 30 * Z(2)\n",
      "2.0 * Z(0) + 1.7 * Z(1) + 0.7 * Z(2) + 30 * I(1) + 30 * Z(0) + 30 * Z(1) + 30 * Z(2)\n",
      "1.2 * Z(0) + 2.15 * Z(1) + 2.15 * Z(2) + 30 * I(1) + 30 * Z(0) + 30 * Z(1) + 30 * Z(2)\n"
     ]
    },
    {
     "name": "stderr",
     "output_type": "stream",
     "text": [
      "100%|██████████| 4/4 [00:00<00:00, 15.38it/s]\n",
      " 50%|█████     | 2/4 [00:00<00:00, 16.18it/s]"
     ]
    },
    {
     "name": "stdout",
     "output_type": "stream",
     "text": [
      "2.9 * Z(0) + 2.9 * Z(1) + 3.8 * Z(2) + 4.4 * Z(3) + 60 * I(1) + 30 * Z(0) + 30 * Z(1) + 30 * Z(2) + 30 * Z(3)\n",
      "2.0 * Z(0) + 1.7 * Z(1) + 0.7 * Z(2) + 30 * I(1) + 30 * Z(0) + 30 * Z(1) + 30 * Z(2)\n",
      "2.55 * Z(0) + 2.25 * Z(1) + 0.7 * Z(2) + 30 * I(1) + 30 * Z(0) + 30 * Z(1) + 30 * Z(2)\n",
      "1.2 * Z(0) + 2.15 * Z(1) + 2.15 * Z(2) + 30 * I(1) + 30 * Z(0) + 30 * Z(1) + 30 * Z(2)\n"
     ]
    },
    {
     "name": "stderr",
     "output_type": "stream",
     "text": [
      "100%|██████████| 4/4 [00:00<00:00, 15.48it/s]\n",
      "  0%|          | 0/4 [00:00<?, ?it/s]"
     ]
    },
    {
     "name": "stdout",
     "output_type": "stream",
     "text": [
      "2.9 * Z(0) + 2.9 * Z(1) + 3.8 * Z(2) + 4.4 * Z(3) + 60 * I(1) + 30 * Z(0) + 30 * Z(1) + 30 * Z(2) + 30 * Z(3)\n",
      "0.85 * Z(0) + 1.75 * Z(1) + 2.35 * Z(2) + 30 * I(1) + 30 * Z(0) + 30 * Z(1) + 30 * Z(2)\n"
     ]
    },
    {
     "name": "stderr",
     "output_type": "stream",
     "text": [
      " 50%|█████     | 2/4 [00:00<00:00, 14.22it/s]"
     ]
    },
    {
     "name": "stdout",
     "output_type": "stream",
     "text": [
      "1.2 * Z(0) + 2.15 * Z(1) + 2.15 * Z(2) + 30 * I(1) + 30 * Z(0) + 30 * Z(1) + 30 * Z(2)\n",
      "2.55 * Z(0) + 2.25 * Z(1) + 0.7 * Z(2) + 30 * I(1) + 30 * Z(0) + 30 * Z(1) + 30 * Z(2)\n"
     ]
    },
    {
     "name": "stderr",
     "output_type": "stream",
     "text": [
      "100%|██████████| 4/4 [00:00<00:00, 14.62it/s]\n",
      "  0%|          | 0/4 [00:00<?, ?it/s]"
     ]
    },
    {
     "name": "stdout",
     "output_type": "stream",
     "text": [
      "2.9 * Z(0) + 2.9 * Z(1) + 3.8 * Z(2) + 4.4 * Z(3) + 60 * I(1) + 30 * Z(0) + 30 * Z(1) + 30 * Z(2) + 30 * Z(3)\n",
      "0.85 * Z(0) + 1.75 * Z(1) + 2.35 * Z(2) + 30 * I(1) + 30 * Z(0) + 30 * Z(1) + 30 * Z(2)\n"
     ]
    },
    {
     "name": "stderr",
     "output_type": "stream",
     "text": [
      " 50%|█████     | 2/4 [00:00<00:00, 15.61it/s]"
     ]
    },
    {
     "name": "stdout",
     "output_type": "stream",
     "text": [
      "1.2 * Z(0) + 2.15 * Z(1) + 2.15 * Z(2) + 30 * I(1) + 30 * Z(0) + 30 * Z(1) + 30 * Z(2)\n",
      "2.55 * Z(0) + 2.25 * Z(1) + 0.7 * Z(2) + 30 * I(1) + 30 * Z(0) + 30 * Z(1) + 30 * Z(2)\n"
     ]
    },
    {
     "name": "stderr",
     "output_type": "stream",
     "text": [
      "100%|██████████| 4/4 [00:00<00:00, 15.53it/s]\n",
      "  0%|          | 0/4 [00:00<?, ?it/s]"
     ]
    },
    {
     "name": "stdout",
     "output_type": "stream",
     "text": [
      "2.9 * Z(0) + 2.9 * Z(1) + 3.8 * Z(2) + 4.4 * Z(3) + 60 * I(1) + 30 * Z(0) + 30 * Z(1) + 30 * Z(2) + 30 * Z(3)\n",
      "2.0 * Z(0) + 1.7 * Z(1) + 0.7 * Z(2) + 30 * I(1) + 30 * Z(0) + 30 * Z(1) + 30 * Z(2)\n"
     ]
    },
    {
     "name": "stderr",
     "output_type": "stream",
     "text": [
      " 50%|█████     | 2/4 [00:00<00:00, 15.10it/s]"
     ]
    },
    {
     "name": "stdout",
     "output_type": "stream",
     "text": [
      "2.55 * Z(0) + 2.25 * Z(1) + 0.7 * Z(2) + 30 * I(1) + 30 * Z(0) + 30 * Z(1) + 30 * Z(2)\n",
      "1.2 * Z(0) + 2.15 * Z(1) + 2.15 * Z(2) + 30 * I(1) + 30 * Z(0) + 30 * Z(1) + 30 * Z(2)\n"
     ]
    },
    {
     "name": "stderr",
     "output_type": "stream",
     "text": [
      "100%|██████████| 4/4 [00:00<00:00, 15.12it/s]\n",
      "  0%|          | 0/4 [00:00<?, ?it/s]"
     ]
    },
    {
     "name": "stdout",
     "output_type": "stream",
     "text": [
      "2.9 * Z(0) + 2.9 * Z(1) + 3.8 * Z(2) + 4.4 * Z(3) + 60 * I(1) + 30 * Z(0) + 30 * Z(1) + 30 * Z(2) + 30 * Z(3)\n"
     ]
    },
    {
     "name": "stderr",
     "output_type": "stream",
     "text": [
      " 50%|█████     | 2/4 [00:00<00:00, 14.44it/s]"
     ]
    },
    {
     "name": "stdout",
     "output_type": "stream",
     "text": [
      "0.85 * Z(0) + 1.75 * Z(1) + 2.35 * Z(2) + 30 * I(1) + 30 * Z(0) + 30 * Z(1) + 30 * Z(2)\n",
      "1.2 * Z(0) + 2.15 * Z(1) + 2.15 * Z(2) + 30 * I(1) + 30 * Z(0) + 30 * Z(1) + 30 * Z(2)\n",
      "2.0 * Z(0) + 1.7 * Z(1) + 0.7 * Z(2) + 30 * I(1) + 30 * Z(0) + 30 * Z(1) + 30 * Z(2)\n"
     ]
    },
    {
     "name": "stderr",
     "output_type": "stream",
     "text": [
      "100%|██████████| 4/4 [00:00<00:00, 12.30it/s]\n",
      "  0%|          | 0/4 [00:00<?, ?it/s]"
     ]
    },
    {
     "name": "stdout",
     "output_type": "stream",
     "text": [
      "2.9 * Z(0) + 2.9 * Z(1) + 3.8 * Z(2) + 4.4 * Z(3) + 60 * I(1) + 30 * Z(0) + 30 * Z(1) + 30 * Z(2) + 30 * Z(3)\n",
      "2.0 * Z(0) + 1.7 * Z(1) + 0.7 * Z(2) + 30 * I(1) + 30 * Z(0) + 30 * Z(1) + 30 * Z(2)\n"
     ]
    },
    {
     "name": "stderr",
     "output_type": "stream",
     "text": [
      " 50%|█████     | 2/4 [00:00<00:00, 14.12it/s]"
     ]
    },
    {
     "name": "stdout",
     "output_type": "stream",
     "text": [
      "0.85 * Z(0) + 1.75 * Z(1) + 2.35 * Z(2) + 30 * I(1) + 30 * Z(0) + 30 * Z(1) + 30 * Z(2)\n"
     ]
    },
    {
     "name": "stderr",
     "output_type": "stream",
     "text": [
      "100%|██████████| 4/4 [00:00<00:00, 14.14it/s]\n"
     ]
    },
    {
     "name": "stdout",
     "output_type": "stream",
     "text": [
      "2.55 * Z(0) + 2.25 * Z(1) + 0.7 * Z(2) + 30 * I(1) + 30 * Z(0) + 30 * Z(1) + 30 * Z(2)\n"
     ]
    },
    {
     "name": "stderr",
     "output_type": "stream",
     "text": [
      "  0%|          | 0/4 [00:00<?, ?it/s]"
     ]
    },
    {
     "name": "stdout",
     "output_type": "stream",
     "text": [
      "2.9 * Z(0) + 2.9 * Z(1) + 3.8 * Z(2) + 4.4 * Z(3) + 60 * I(1) + 30 * Z(0) + 30 * Z(1) + 30 * Z(2) + 30 * Z(3)\n",
      "2.0 * Z(0) + 1.7 * Z(1) + 0.7 * Z(2) + 30 * I(1) + 30 * Z(0) + 30 * Z(1) + 30 * Z(2)\n"
     ]
    },
    {
     "name": "stderr",
     "output_type": "stream",
     "text": [
      " 50%|█████     | 2/4 [00:00<00:00, 14.30it/s]"
     ]
    },
    {
     "name": "stdout",
     "output_type": "stream",
     "text": [
      "1.2 * Z(0) + 2.15 * Z(1) + 2.15 * Z(2) + 30 * I(1) + 30 * Z(0) + 30 * Z(1) + 30 * Z(2)\n"
     ]
    },
    {
     "name": "stderr",
     "output_type": "stream",
     "text": [
      "100%|██████████| 4/4 [00:00<00:00, 14.61it/s]\n"
     ]
    },
    {
     "name": "stdout",
     "output_type": "stream",
     "text": [
      "0.85 * Z(0) + 1.75 * Z(1) + 2.35 * Z(2) + 30 * I(1) + 30 * Z(0) + 30 * Z(1) + 30 * Z(2)\n"
     ]
    },
    {
     "name": "stderr",
     "output_type": "stream",
     "text": [
      "  0%|          | 0/4 [00:00<?, ?it/s]"
     ]
    },
    {
     "name": "stdout",
     "output_type": "stream",
     "text": [
      "2.9 * Z(0) + 2.9 * Z(1) + 3.8 * Z(2) + 4.4 * Z(3) + 60 * I(1) + 30 * Z(0) + 30 * Z(1) + 30 * Z(2) + 30 * Z(3)\n",
      "2.0 * Z(0) + 1.7 * Z(1) + 0.7 * Z(2) + 30 * I(1) + 30 * Z(0) + 30 * Z(1) + 30 * Z(2)\n"
     ]
    },
    {
     "name": "stderr",
     "output_type": "stream",
     "text": [
      " 50%|█████     | 2/4 [00:00<00:00, 14.08it/s]"
     ]
    },
    {
     "name": "stdout",
     "output_type": "stream",
     "text": [
      "1.2 * Z(0) + 2.15 * Z(1) + 2.15 * Z(2) + 30 * I(1) + 30 * Z(0) + 30 * Z(1) + 30 * Z(2)\n"
     ]
    },
    {
     "name": "stderr",
     "output_type": "stream",
     "text": [
      "100%|██████████| 4/4 [00:00<00:00, 14.04it/s]\n"
     ]
    },
    {
     "name": "stdout",
     "output_type": "stream",
     "text": [
      "0.85 * Z(0) + 1.75 * Z(1) + 2.35 * Z(2) + 30 * I(1) + 30 * Z(0) + 30 * Z(1) + 30 * Z(2)\n"
     ]
    },
    {
     "name": "stderr",
     "output_type": "stream",
     "text": [
      "  0%|          | 0/4 [00:00<?, ?it/s]"
     ]
    },
    {
     "name": "stdout",
     "output_type": "stream",
     "text": [
      "2.9 * Z(0) + 2.9 * Z(1) + 3.8 * Z(2) + 4.4 * Z(3) + 60 * I(1) + 30 * Z(0) + 30 * Z(1) + 30 * Z(2) + 30 * Z(3)\n",
      "0.85 * Z(0) + 1.75 * Z(1) + 2.35 * Z(2) + 30 * I(1) + 30 * Z(0) + 30 * Z(1) + 30 * Z(2)\n"
     ]
    },
    {
     "name": "stderr",
     "output_type": "stream",
     "text": [
      " 50%|█████     | 2/4 [00:00<00:00, 14.30it/s]"
     ]
    },
    {
     "name": "stdout",
     "output_type": "stream",
     "text": [
      "1.2 * Z(0) + 2.15 * Z(1) + 2.15 * Z(2) + 30 * I(1) + 30 * Z(0) + 30 * Z(1) + 30 * Z(2)\n",
      "2.0 * Z(0) + 1.7 * Z(1) + 0.7 * Z(2) + 30 * I(1) + 30 * Z(0) + 30 * Z(1) + 30 * Z(2)\n"
     ]
    },
    {
     "name": "stderr",
     "output_type": "stream",
     "text": [
      "100%|██████████| 4/4 [00:00<00:00, 14.57it/s]\n",
      "  0%|          | 0/4 [00:00<?, ?it/s]"
     ]
    },
    {
     "name": "stdout",
     "output_type": "stream",
     "text": [
      "2.9 * Z(0) + 2.9 * Z(1) + 3.8 * Z(2) + 4.4 * Z(3) + 60 * I(1) + 30 * Z(0) + 30 * Z(1) + 30 * Z(2) + 30 * Z(3)\n",
      "2.0 * Z(0) + 1.7 * Z(1) + 0.7 * Z(2) + 30 * I(1) + 30 * Z(0) + 30 * Z(1) + 30 * Z(2)\n"
     ]
    },
    {
     "name": "stderr",
     "output_type": "stream",
     "text": [
      " 50%|█████     | 2/4 [00:00<00:00, 15.09it/s]"
     ]
    },
    {
     "name": "stdout",
     "output_type": "stream",
     "text": [
      "2.55 * Z(0) + 2.25 * Z(1) + 0.7 * Z(2) + 30 * I(1) + 30 * Z(0) + 30 * Z(1) + 30 * Z(2)\n",
      "1.2 * Z(0) + 2.15 * Z(1) + 2.15 * Z(2) + 30 * I(1) + 30 * Z(0) + 30 * Z(1) + 30 * Z(2)\n"
     ]
    },
    {
     "name": "stderr",
     "output_type": "stream",
     "text": [
      "100%|██████████| 4/4 [00:00<00:00, 13.39it/s]\n",
      "  0%|          | 0/4 [00:00<?, ?it/s]"
     ]
    },
    {
     "name": "stdout",
     "output_type": "stream",
     "text": [
      "2.9 * Z(0) + 2.9 * Z(1) + 3.8 * Z(2) + 4.4 * Z(3) + 60 * I(1) + 30 * Z(0) + 30 * Z(1) + 30 * Z(2) + 30 * Z(3)\n",
      "0.85 * Z(0) + 1.75 * Z(1) + 2.35 * Z(2) + 30 * I(1) + 30 * Z(0) + 30 * Z(1) + 30 * Z(2)\n"
     ]
    },
    {
     "name": "stderr",
     "output_type": "stream",
     "text": [
      " 50%|█████     | 2/4 [00:00<00:00, 15.24it/s]"
     ]
    },
    {
     "name": "stdout",
     "output_type": "stream",
     "text": [
      "2.55 * Z(0) + 2.25 * Z(1) + 0.7 * Z(2) + 30 * I(1) + 30 * Z(0) + 30 * Z(1) + 30 * Z(2)\n",
      "1.2 * Z(0) + 2.15 * Z(1) + 2.15 * Z(2) + 30 * I(1) + 30 * Z(0) + 30 * Z(1) + 30 * Z(2)\n"
     ]
    },
    {
     "name": "stderr",
     "output_type": "stream",
     "text": [
      "100%|██████████| 4/4 [00:00<00:00, 15.13it/s]\n",
      "  0%|          | 0/4 [00:00<?, ?it/s]"
     ]
    },
    {
     "name": "stdout",
     "output_type": "stream",
     "text": [
      "2.9 * Z(0) + 2.9 * Z(1) + 3.8 * Z(2) + 4.4 * Z(3) + 60 * I(1) + 30 * Z(0) + 30 * Z(1) + 30 * Z(2) + 30 * Z(3)\n",
      "2.0 * Z(0) + 1.7 * Z(1) + 0.7 * Z(2) + 30 * I(1) + 30 * Z(0) + 30 * Z(1) + 30 * Z(2)\n"
     ]
    },
    {
     "name": "stderr",
     "output_type": "stream",
     "text": [
      " 50%|█████     | 2/4 [00:00<00:00, 15.45it/s]"
     ]
    },
    {
     "name": "stdout",
     "output_type": "stream",
     "text": [
      "0.85 * Z(0) + 1.75 * Z(1) + 2.35 * Z(2) + 30 * I(1) + 30 * Z(0) + 30 * Z(1) + 30 * Z(2)\n",
      "1.2 * Z(0) + 2.15 * Z(1) + 2.15 * Z(2) + 30 * I(1) + 30 * Z(0) + 30 * Z(1) + 30 * Z(2)\n"
     ]
    },
    {
     "name": "stderr",
     "output_type": "stream",
     "text": [
      "100%|██████████| 4/4 [00:00<00:00, 15.36it/s]\n",
      "  0%|          | 0/4 [00:00<?, ?it/s]"
     ]
    },
    {
     "name": "stdout",
     "output_type": "stream",
     "text": [
      "2.9 * Z(0) + 2.9 * Z(1) + 3.8 * Z(2) + 4.4 * Z(3) + 60 * I(1) + 30 * Z(0) + 30 * Z(1) + 30 * Z(2) + 30 * Z(3)\n",
      "2.55 * Z(0) + 2.25 * Z(1) + 0.7 * Z(2) + 30 * I(1) + 30 * Z(0) + 30 * Z(1) + 30 * Z(2)\n"
     ]
    },
    {
     "name": "stderr",
     "output_type": "stream",
     "text": [
      " 50%|█████     | 2/4 [00:00<00:00, 15.05it/s]"
     ]
    },
    {
     "name": "stdout",
     "output_type": "stream",
     "text": [
      "1.2 * Z(0) + 2.15 * Z(1) + 2.15 * Z(2) + 30 * I(1) + 30 * Z(0) + 30 * Z(1) + 30 * Z(2)\n",
      "0.85 * Z(0) + 1.75 * Z(1) + 2.35 * Z(2) + 30 * I(1) + 30 * Z(0) + 30 * Z(1) + 30 * Z(2)\n"
     ]
    },
    {
     "name": "stderr",
     "output_type": "stream",
     "text": [
      "100%|██████████| 4/4 [00:00<00:00, 15.25it/s]\n",
      "  0%|          | 0/4 [00:00<?, ?it/s]"
     ]
    },
    {
     "name": "stdout",
     "output_type": "stream",
     "text": [
      "2.9 * Z(0) + 2.9 * Z(1) + 3.8 * Z(2) + 4.4 * Z(3) + 60 * I(1) + 30 * Z(0) + 30 * Z(1) + 30 * Z(2) + 30 * Z(3)\n"
     ]
    },
    {
     "name": "stderr",
     "output_type": "stream",
     "text": [
      " 50%|█████     | 2/4 [00:00<00:00, 14.23it/s]"
     ]
    },
    {
     "name": "stdout",
     "output_type": "stream",
     "text": [
      "2.55 * Z(0) + 2.25 * Z(1) + 0.7 * Z(2) + 30 * I(1) + 30 * Z(0) + 30 * Z(1) + 30 * Z(2)\n",
      "0.85 * Z(0) + 1.75 * Z(1) + 2.35 * Z(2) + 30 * I(1) + 30 * Z(0) + 30 * Z(1) + 30 * Z(2)\n",
      "1.2 * Z(0) + 2.15 * Z(1) + 2.15 * Z(2) + 30 * I(1) + 30 * Z(0) + 30 * Z(1) + 30 * Z(2)\n"
     ]
    },
    {
     "name": "stderr",
     "output_type": "stream",
     "text": [
      "100%|██████████| 4/4 [00:00<00:00, 14.63it/s]\n",
      "  0%|          | 0/4 [00:00<?, ?it/s]"
     ]
    },
    {
     "name": "stdout",
     "output_type": "stream",
     "text": [
      "2.9 * Z(0) + 2.9 * Z(1) + 3.8 * Z(2) + 4.4 * Z(3) + 60 * I(1) + 30 * Z(0) + 30 * Z(1) + 30 * Z(2) + 30 * Z(3)\n"
     ]
    },
    {
     "name": "stderr",
     "output_type": "stream",
     "text": [
      " 50%|█████     | 2/4 [00:00<00:00, 15.36it/s]"
     ]
    },
    {
     "name": "stdout",
     "output_type": "stream",
     "text": [
      "1.2 * Z(0) + 2.15 * Z(1) + 2.15 * Z(2) + 30 * I(1) + 30 * Z(0) + 30 * Z(1) + 30 * Z(2)\n",
      "2.0 * Z(0) + 1.7 * Z(1) + 0.7 * Z(2) + 30 * I(1) + 30 * Z(0) + 30 * Z(1) + 30 * Z(2)\n",
      "0.85 * Z(0) + 1.75 * Z(1) + 2.35 * Z(2) + 30 * I(1) + 30 * Z(0) + 30 * Z(1) + 30 * Z(2)\n"
     ]
    },
    {
     "name": "stderr",
     "output_type": "stream",
     "text": [
      "100%|██████████| 4/4 [00:00<00:00, 15.27it/s]\n",
      "  0%|          | 0/4 [00:00<?, ?it/s]"
     ]
    },
    {
     "name": "stdout",
     "output_type": "stream",
     "text": [
      "2.9 * Z(0) + 2.9 * Z(1) + 3.8 * Z(2) + 4.4 * Z(3) + 60 * I(1) + 30 * Z(0) + 30 * Z(1) + 30 * Z(2) + 30 * Z(3)\n"
     ]
    },
    {
     "name": "stderr",
     "output_type": "stream",
     "text": [
      " 50%|█████     | 2/4 [00:00<00:00, 12.25it/s]"
     ]
    },
    {
     "name": "stdout",
     "output_type": "stream",
     "text": [
      "0.85 * Z(0) + 1.75 * Z(1) + 2.35 * Z(2) + 30 * I(1) + 30 * Z(0) + 30 * Z(1) + 30 * Z(2)\n",
      "2.55 * Z(0) + 2.25 * Z(1) + 0.7 * Z(2) + 30 * I(1) + 30 * Z(0) + 30 * Z(1) + 30 * Z(2)\n"
     ]
    },
    {
     "name": "stderr",
     "output_type": "stream",
     "text": [
      "100%|██████████| 4/4 [00:00<00:00, 13.71it/s]\n"
     ]
    },
    {
     "name": "stdout",
     "output_type": "stream",
     "text": [
      "1.2 * Z(0) + 2.15 * Z(1) + 2.15 * Z(2) + 30 * I(1) + 30 * Z(0) + 30 * Z(1) + 30 * Z(2)\n"
     ]
    },
    {
     "name": "stderr",
     "output_type": "stream",
     "text": [
      "  0%|          | 0/4 [00:00<?, ?it/s]"
     ]
    },
    {
     "name": "stdout",
     "output_type": "stream",
     "text": [
      "2.9 * Z(0) + 2.9 * Z(1) + 3.8 * Z(2) + 4.4 * Z(3) + 60 * I(1) + 30 * Z(0) + 30 * Z(1) + 30 * Z(2) + 30 * Z(3)\n"
     ]
    },
    {
     "name": "stderr",
     "output_type": "stream",
     "text": [
      " 50%|█████     | 2/4 [00:00<00:00, 15.51it/s]"
     ]
    },
    {
     "name": "stdout",
     "output_type": "stream",
     "text": [
      "2.55 * Z(0) + 2.25 * Z(1) + 0.7 * Z(2) + 30 * I(1) + 30 * Z(0) + 30 * Z(1) + 30 * Z(2)\n",
      "1.2 * Z(0) + 2.15 * Z(1) + 2.15 * Z(2) + 30 * I(1) + 30 * Z(0) + 30 * Z(1) + 30 * Z(2)\n",
      "0.85 * Z(0) + 1.75 * Z(1) + 2.35 * Z(2) + 30 * I(1) + 30 * Z(0) + 30 * Z(1) + 30 * Z(2)\n"
     ]
    },
    {
     "name": "stderr",
     "output_type": "stream",
     "text": [
      "100%|██████████| 4/4 [00:00<00:00, 14.34it/s]\n",
      " 50%|█████     | 2/4 [00:00<00:00, 16.07it/s]"
     ]
    },
    {
     "name": "stdout",
     "output_type": "stream",
     "text": [
      "2.9 * Z(0) + 2.9 * Z(1) + 3.8 * Z(2) + 4.4 * Z(3) + 60 * I(1) + 30 * Z(0) + 30 * Z(1) + 30 * Z(2) + 30 * Z(3)\n",
      "1.2 * Z(0) + 2.15 * Z(1) + 2.15 * Z(2) + 30 * I(1) + 30 * Z(0) + 30 * Z(1) + 30 * Z(2)\n",
      "2.0 * Z(0) + 1.7 * Z(1) + 0.7 * Z(2) + 30 * I(1) + 30 * Z(0) + 30 * Z(1) + 30 * Z(2)\n",
      "2.55 * Z(0) + 2.25 * Z(1) + 0.7 * Z(2) + 30 * I(1) + 30 * Z(0) + 30 * Z(1) + 30 * Z(2)\n"
     ]
    },
    {
     "name": "stderr",
     "output_type": "stream",
     "text": [
      "100%|██████████| 4/4 [00:00<00:00, 15.65it/s]\n",
      " 50%|█████     | 2/4 [00:00<00:00, 14.74it/s]"
     ]
    },
    {
     "name": "stdout",
     "output_type": "stream",
     "text": [
      "2.9 * Z(0) + 2.9 * Z(1) + 3.8 * Z(2) + 4.4 * Z(3) + 60 * I(1) + 30 * Z(0) + 30 * Z(1) + 30 * Z(2) + 30 * Z(3)\n",
      "1.2 * Z(0) + 2.15 * Z(1) + 2.15 * Z(2) + 30 * I(1) + 30 * Z(0) + 30 * Z(1) + 30 * Z(2)\n",
      "0.85 * Z(0) + 1.75 * Z(1) + 2.35 * Z(2) + 30 * I(1) + 30 * Z(0) + 30 * Z(1) + 30 * Z(2)\n",
      "2.0 * Z(0) + 1.7 * Z(1) + 0.7 * Z(2) + 30 * I(1) + 30 * Z(0) + 30 * Z(1) + 30 * Z(2)\n"
     ]
    },
    {
     "name": "stderr",
     "output_type": "stream",
     "text": [
      "100%|██████████| 4/4 [00:00<00:00, 14.82it/s]\n",
      "  0%|          | 0/4 [00:00<?, ?it/s]"
     ]
    },
    {
     "name": "stdout",
     "output_type": "stream",
     "text": [
      "2.9 * Z(0) + 2.9 * Z(1) + 3.8 * Z(2) + 4.4 * Z(3) + 60 * I(1) + 30 * Z(0) + 30 * Z(1) + 30 * Z(2) + 30 * Z(3)\n",
      "1.2 * Z(0) + 2.15 * Z(1) + 2.15 * Z(2) + 30 * I(1) + 30 * Z(0) + 30 * Z(1) + 30 * Z(2)\n"
     ]
    },
    {
     "name": "stderr",
     "output_type": "stream",
     "text": [
      " 50%|█████     | 2/4 [00:00<00:00, 14.33it/s]"
     ]
    },
    {
     "name": "stdout",
     "output_type": "stream",
     "text": [
      "2.0 * Z(0) + 1.7 * Z(1) + 0.7 * Z(2) + 30 * I(1) + 30 * Z(0) + 30 * Z(1) + 30 * Z(2)\n",
      "2.55 * Z(0) + 2.25 * Z(1) + 0.7 * Z(2) + 30 * I(1) + 30 * Z(0) + 30 * Z(1) + 30 * Z(2)\n"
     ]
    },
    {
     "name": "stderr",
     "output_type": "stream",
     "text": [
      "100%|██████████| 4/4 [00:00<00:00, 14.90it/s]\n",
      "  0%|          | 0/4 [00:00<?, ?it/s]"
     ]
    },
    {
     "name": "stdout",
     "output_type": "stream",
     "text": [
      "2.9 * Z(0) + 2.9 * Z(1) + 3.8 * Z(2) + 4.4 * Z(3) + 60 * I(1) + 30 * Z(0) + 30 * Z(1) + 30 * Z(2) + 30 * Z(3)\n",
      "1.2 * Z(0) + 2.15 * Z(1) + 2.15 * Z(2) + 30 * I(1) + 30 * Z(0) + 30 * Z(1) + 30 * Z(2)\n"
     ]
    },
    {
     "name": "stderr",
     "output_type": "stream",
     "text": [
      " 50%|█████     | 2/4 [00:00<00:00, 13.90it/s]"
     ]
    },
    {
     "name": "stdout",
     "output_type": "stream",
     "text": [
      "2.0 * Z(0) + 1.7 * Z(1) + 0.7 * Z(2) + 30 * I(1) + 30 * Z(0) + 30 * Z(1) + 30 * Z(2)\n"
     ]
    },
    {
     "name": "stderr",
     "output_type": "stream",
     "text": [
      "100%|██████████| 4/4 [00:00<00:00, 13.92it/s]\n"
     ]
    },
    {
     "name": "stdout",
     "output_type": "stream",
     "text": [
      "2.55 * Z(0) + 2.25 * Z(1) + 0.7 * Z(2) + 30 * I(1) + 30 * Z(0) + 30 * Z(1) + 30 * Z(2)\n"
     ]
    },
    {
     "name": "stderr",
     "output_type": "stream",
     "text": [
      "  0%|          | 0/4 [00:00<?, ?it/s]"
     ]
    },
    {
     "name": "stdout",
     "output_type": "stream",
     "text": [
      "2.9 * Z(0) + 2.9 * Z(1) + 3.8 * Z(2) + 4.4 * Z(3) + 60 * I(1) + 30 * Z(0) + 30 * Z(1) + 30 * Z(2) + 30 * Z(3)\n",
      "2.0 * Z(0) + 1.7 * Z(1) + 0.7 * Z(2) + 30 * I(1) + 30 * Z(0) + 30 * Z(1) + 30 * Z(2)\n"
     ]
    },
    {
     "name": "stderr",
     "output_type": "stream",
     "text": [
      " 50%|█████     | 2/4 [00:00<00:00, 12.16it/s]"
     ]
    },
    {
     "name": "stdout",
     "output_type": "stream",
     "text": [
      "1.2 * Z(0) + 2.15 * Z(1) + 2.15 * Z(2) + 30 * I(1) + 30 * Z(0) + 30 * Z(1) + 30 * Z(2)\n",
      "0.85 * Z(0) + 1.75 * Z(1) + 2.35 * Z(2) + 30 * I(1) + 30 * Z(0) + 30 * Z(1) + 30 * Z(2)\n"
     ]
    },
    {
     "name": "stderr",
     "output_type": "stream",
     "text": [
      "100%|██████████| 4/4 [00:00<00:00, 12.90it/s]\n",
      "  0%|          | 0/4 [00:00<?, ?it/s]"
     ]
    },
    {
     "name": "stdout",
     "output_type": "stream",
     "text": [
      "2.9 * Z(0) + 2.9 * Z(1) + 3.8 * Z(2) + 4.4 * Z(3) + 60 * I(1) + 30 * Z(0) + 30 * Z(1) + 30 * Z(2) + 30 * Z(3)\n"
     ]
    },
    {
     "name": "stderr",
     "output_type": "stream",
     "text": [
      " 50%|█████     | 2/4 [00:00<00:00, 15.58it/s]"
     ]
    },
    {
     "name": "stdout",
     "output_type": "stream",
     "text": [
      "1.2 * Z(0) + 2.15 * Z(1) + 2.15 * Z(2) + 30 * I(1) + 30 * Z(0) + 30 * Z(1) + 30 * Z(2)\n",
      "2.0 * Z(0) + 1.7 * Z(1) + 0.7 * Z(2) + 30 * I(1) + 30 * Z(0) + 30 * Z(1) + 30 * Z(2)\n",
      "2.55 * Z(0) + 2.25 * Z(1) + 0.7 * Z(2) + 30 * I(1) + 30 * Z(0) + 30 * Z(1) + 30 * Z(2)\n"
     ]
    },
    {
     "name": "stderr",
     "output_type": "stream",
     "text": [
      "100%|██████████| 4/4 [00:00<00:00, 14.79it/s]\n",
      " 50%|█████     | 2/4 [00:00<00:00, 16.12it/s]"
     ]
    },
    {
     "name": "stdout",
     "output_type": "stream",
     "text": [
      "2.9 * Z(0) + 2.9 * Z(1) + 3.8 * Z(2) + 4.4 * Z(3) + 60 * I(1) + 30 * Z(0) + 30 * Z(1) + 30 * Z(2) + 30 * Z(3)\n",
      "0.85 * Z(0) + 1.75 * Z(1) + 2.35 * Z(2) + 30 * I(1) + 30 * Z(0) + 30 * Z(1) + 30 * Z(2)\n",
      "2.55 * Z(0) + 2.25 * Z(1) + 0.7 * Z(2) + 30 * I(1) + 30 * Z(0) + 30 * Z(1) + 30 * Z(2)\n",
      "1.2 * Z(0) + 2.15 * Z(1) + 2.15 * Z(2) + 30 * I(1) + 30 * Z(0) + 30 * Z(1) + 30 * Z(2)\n"
     ]
    },
    {
     "name": "stderr",
     "output_type": "stream",
     "text": [
      "100%|██████████| 4/4 [00:00<00:00, 15.66it/s]\n",
      " 50%|█████     | 2/4 [00:00<00:00, 15.61it/s]"
     ]
    },
    {
     "name": "stdout",
     "output_type": "stream",
     "text": [
      "2.9 * Z(0) + 2.9 * Z(1) + 3.8 * Z(2) + 4.4 * Z(3) + 60 * I(1) + 30 * Z(0) + 30 * Z(1) + 30 * Z(2) + 30 * Z(3)\n",
      "0.85 * Z(0) + 1.75 * Z(1) + 2.35 * Z(2) + 30 * I(1) + 30 * Z(0) + 30 * Z(1) + 30 * Z(2)\n",
      "2.55 * Z(0) + 2.25 * Z(1) + 0.7 * Z(2) + 30 * I(1) + 30 * Z(0) + 30 * Z(1) + 30 * Z(2)\n",
      "2.0 * Z(0) + 1.7 * Z(1) + 0.7 * Z(2) + 30 * I(1) + 30 * Z(0) + 30 * Z(1) + 30 * Z(2)\n"
     ]
    },
    {
     "name": "stderr",
     "output_type": "stream",
     "text": [
      "100%|██████████| 4/4 [00:00<00:00, 15.13it/s]\n",
      " 50%|█████     | 2/4 [00:00<00:00, 15.73it/s]"
     ]
    },
    {
     "name": "stdout",
     "output_type": "stream",
     "text": [
      "2.9 * Z(0) + 2.9 * Z(1) + 3.8 * Z(2) + 4.4 * Z(3) + 60 * I(1) + 30 * Z(0) + 30 * Z(1) + 30 * Z(2) + 30 * Z(3)\n",
      "2.55 * Z(0) + 2.25 * Z(1) + 0.7 * Z(2) + 30 * I(1) + 30 * Z(0) + 30 * Z(1) + 30 * Z(2)\n",
      "1.2 * Z(0) + 2.15 * Z(1) + 2.15 * Z(2) + 30 * I(1) + 30 * Z(0) + 30 * Z(1) + 30 * Z(2)\n",
      "0.85 * Z(0) + 1.75 * Z(1) + 2.35 * Z(2) + 30 * I(1) + 30 * Z(0) + 30 * Z(1) + 30 * Z(2)\n"
     ]
    },
    {
     "name": "stderr",
     "output_type": "stream",
     "text": [
      "100%|██████████| 4/4 [00:00<00:00, 15.14it/s]\n",
      " 50%|█████     | 2/4 [00:00<00:00, 15.33it/s]"
     ]
    },
    {
     "name": "stdout",
     "output_type": "stream",
     "text": [
      "2.9 * Z(0) + 2.9 * Z(1) + 3.8 * Z(2) + 4.4 * Z(3) + 60 * I(1) + 30 * Z(0) + 30 * Z(1) + 30 * Z(2) + 30 * Z(3)\n",
      "1.2 * Z(0) + 2.15 * Z(1) + 2.15 * Z(2) + 30 * I(1) + 30 * Z(0) + 30 * Z(1) + 30 * Z(2)\n",
      "2.0 * Z(0) + 1.7 * Z(1) + 0.7 * Z(2) + 30 * I(1) + 30 * Z(0) + 30 * Z(1) + 30 * Z(2)\n",
      "2.55 * Z(0) + 2.25 * Z(1) + 0.7 * Z(2) + 30 * I(1) + 30 * Z(0) + 30 * Z(1) + 30 * Z(2)\n"
     ]
    },
    {
     "name": "stderr",
     "output_type": "stream",
     "text": [
      "100%|██████████| 4/4 [00:00<00:00, 14.52it/s]\n",
      "  0%|          | 0/4 [00:00<?, ?it/s]"
     ]
    },
    {
     "name": "stdout",
     "output_type": "stream",
     "text": [
      "2.9 * Z(0) + 2.9 * Z(1) + 3.8 * Z(2) + 4.4 * Z(3) + 60 * I(1) + 30 * Z(0) + 30 * Z(1) + 30 * Z(2) + 30 * Z(3)\n",
      "2.55 * Z(0) + 2.25 * Z(1) + 0.7 * Z(2) + 30 * I(1) + 30 * Z(0) + 30 * Z(1) + 30 * Z(2)\n"
     ]
    },
    {
     "name": "stderr",
     "output_type": "stream",
     "text": [
      " 50%|█████     | 2/4 [00:00<00:00, 14.49it/s]"
     ]
    },
    {
     "name": "stdout",
     "output_type": "stream",
     "text": [
      "2.0 * Z(0) + 1.7 * Z(1) + 0.7 * Z(2) + 30 * I(1) + 30 * Z(0) + 30 * Z(1) + 30 * Z(2)\n",
      "1.2 * Z(0) + 2.15 * Z(1) + 2.15 * Z(2) + 30 * I(1) + 30 * Z(0) + 30 * Z(1) + 30 * Z(2)\n"
     ]
    },
    {
     "name": "stderr",
     "output_type": "stream",
     "text": [
      "100%|██████████| 4/4 [00:00<00:00, 14.76it/s]\n",
      "  0%|          | 0/4 [00:00<?, ?it/s]"
     ]
    },
    {
     "name": "stdout",
     "output_type": "stream",
     "text": [
      "2.9 * Z(0) + 2.9 * Z(1) + 3.8 * Z(2) + 4.4 * Z(3) + 60 * I(1) + 30 * Z(0) + 30 * Z(1) + 30 * Z(2) + 30 * Z(3)\n",
      "2.55 * Z(0) + 2.25 * Z(1) + 0.7 * Z(2) + 30 * I(1) + 30 * Z(0) + 30 * Z(1) + 30 * Z(2)\n"
     ]
    },
    {
     "name": "stderr",
     "output_type": "stream",
     "text": [
      " 50%|█████     | 2/4 [00:00<00:00, 15.16it/s]"
     ]
    },
    {
     "name": "stdout",
     "output_type": "stream",
     "text": [
      "1.2 * Z(0) + 2.15 * Z(1) + 2.15 * Z(2) + 30 * I(1) + 30 * Z(0) + 30 * Z(1) + 30 * Z(2)\n",
      "0.85 * Z(0) + 1.75 * Z(1) + 2.35 * Z(2) + 30 * I(1) + 30 * Z(0) + 30 * Z(1) + 30 * Z(2)\n"
     ]
    },
    {
     "name": "stderr",
     "output_type": "stream",
     "text": [
      "100%|██████████| 4/4 [00:00<00:00, 13.39it/s]\n",
      "  0%|          | 0/4 [00:00<?, ?it/s]"
     ]
    },
    {
     "name": "stdout",
     "output_type": "stream",
     "text": [
      "2.9 * Z(0) + 2.9 * Z(1) + 3.8 * Z(2) + 4.4 * Z(3) + 60 * I(1) + 30 * Z(0) + 30 * Z(1) + 30 * Z(2) + 30 * Z(3)\n"
     ]
    },
    {
     "name": "stderr",
     "output_type": "stream",
     "text": [
      " 50%|█████     | 2/4 [00:00<00:00, 13.70it/s]"
     ]
    },
    {
     "name": "stdout",
     "output_type": "stream",
     "text": [
      "2.0 * Z(0) + 1.7 * Z(1) + 0.7 * Z(2) + 30 * I(1) + 30 * Z(0) + 30 * Z(1) + 30 * Z(2)\n",
      "0.85 * Z(0) + 1.75 * Z(1) + 2.35 * Z(2) + 30 * I(1) + 30 * Z(0) + 30 * Z(1) + 30 * Z(2)\n",
      "1.2 * Z(0) + 2.15 * Z(1) + 2.15 * Z(2) + 30 * I(1) + 30 * Z(0) + 30 * Z(1) + 30 * Z(2)\n"
     ]
    },
    {
     "name": "stderr",
     "output_type": "stream",
     "text": [
      "100%|██████████| 4/4 [00:00<00:00, 13.83it/s]\n",
      " 50%|█████     | 2/4 [00:00<00:00, 15.73it/s]"
     ]
    },
    {
     "name": "stdout",
     "output_type": "stream",
     "text": [
      "2.9 * Z(0) + 2.9 * Z(1) + 3.8 * Z(2) + 4.4 * Z(3) + 60 * I(1) + 30 * Z(0) + 30 * Z(1) + 30 * Z(2) + 30 * Z(3)\n",
      "0.85 * Z(0) + 1.75 * Z(1) + 2.35 * Z(2) + 30 * I(1) + 30 * Z(0) + 30 * Z(1) + 30 * Z(2)\n",
      "2.0 * Z(0) + 1.7 * Z(1) + 0.7 * Z(2) + 30 * I(1) + 30 * Z(0) + 30 * Z(1) + 30 * Z(2)\n",
      "2.55 * Z(0) + 2.25 * Z(1) + 0.7 * Z(2) + 30 * I(1) + 30 * Z(0) + 30 * Z(1) + 30 * Z(2)\n"
     ]
    },
    {
     "name": "stderr",
     "output_type": "stream",
     "text": [
      "100%|██████████| 4/4 [00:00<00:00, 15.42it/s]\n",
      " 50%|█████     | 2/4 [00:00<00:00, 15.67it/s]"
     ]
    },
    {
     "name": "stdout",
     "output_type": "stream",
     "text": [
      "2.9 * Z(0) + 2.9 * Z(1) + 3.8 * Z(2) + 4.4 * Z(3) + 60 * I(1) + 30 * Z(0) + 30 * Z(1) + 30 * Z(2) + 30 * Z(3)\n",
      "1.2 * Z(0) + 2.15 * Z(1) + 2.15 * Z(2) + 30 * I(1) + 30 * Z(0) + 30 * Z(1) + 30 * Z(2)\n",
      "0.85 * Z(0) + 1.75 * Z(1) + 2.35 * Z(2) + 30 * I(1) + 30 * Z(0) + 30 * Z(1) + 30 * Z(2)\n",
      "2.0 * Z(0) + 1.7 * Z(1) + 0.7 * Z(2) + 30 * I(1) + 30 * Z(0) + 30 * Z(1) + 30 * Z(2)\n"
     ]
    },
    {
     "name": "stderr",
     "output_type": "stream",
     "text": [
      "100%|██████████| 4/4 [00:00<00:00, 14.84it/s]\n",
      " 50%|█████     | 2/4 [00:00<00:00, 15.77it/s]"
     ]
    },
    {
     "name": "stdout",
     "output_type": "stream",
     "text": [
      "2.9 * Z(0) + 2.9 * Z(1) + 3.8 * Z(2) + 4.4 * Z(3) + 60 * I(1) + 30 * Z(0) + 30 * Z(1) + 30 * Z(2) + 30 * Z(3)\n",
      "2.55 * Z(0) + 2.25 * Z(1) + 0.7 * Z(2) + 30 * I(1) + 30 * Z(0) + 30 * Z(1) + 30 * Z(2)\n",
      "2.0 * Z(0) + 1.7 * Z(1) + 0.7 * Z(2) + 30 * I(1) + 30 * Z(0) + 30 * Z(1) + 30 * Z(2)\n",
      "0.85 * Z(0) + 1.75 * Z(1) + 2.35 * Z(2) + 30 * I(1) + 30 * Z(0) + 30 * Z(1) + 30 * Z(2)\n"
     ]
    },
    {
     "name": "stderr",
     "output_type": "stream",
     "text": [
      "100%|██████████| 4/4 [00:00<00:00, 14.12it/s]\n",
      " 50%|█████     | 2/4 [00:00<00:00, 15.76it/s]"
     ]
    },
    {
     "name": "stdout",
     "output_type": "stream",
     "text": [
      "2.9 * Z(0) + 2.9 * Z(1) + 3.8 * Z(2) + 4.4 * Z(3) + 60 * I(1) + 30 * Z(0) + 30 * Z(1) + 30 * Z(2) + 30 * Z(3)\n",
      "2.0 * Z(0) + 1.7 * Z(1) + 0.7 * Z(2) + 30 * I(1) + 30 * Z(0) + 30 * Z(1) + 30 * Z(2)\n",
      "2.55 * Z(0) + 2.25 * Z(1) + 0.7 * Z(2) + 30 * I(1) + 30 * Z(0) + 30 * Z(1) + 30 * Z(2)\n",
      "0.85 * Z(0) + 1.75 * Z(1) + 2.35 * Z(2) + 30 * I(1) + 30 * Z(0) + 30 * Z(1) + 30 * Z(2)\n"
     ]
    },
    {
     "name": "stderr",
     "output_type": "stream",
     "text": [
      "100%|██████████| 4/4 [00:00<00:00, 15.48it/s]\n",
      " 50%|█████     | 2/4 [00:00<00:00, 14.43it/s]"
     ]
    },
    {
     "name": "stdout",
     "output_type": "stream",
     "text": [
      "2.9 * Z(0) + 2.9 * Z(1) + 3.8 * Z(2) + 4.4 * Z(3) + 60 * I(1) + 30 * Z(0) + 30 * Z(1) + 30 * Z(2) + 30 * Z(3)\n",
      "0.85 * Z(0) + 1.75 * Z(1) + 2.35 * Z(2) + 30 * I(1) + 30 * Z(0) + 30 * Z(1) + 30 * Z(2)\n",
      "1.2 * Z(0) + 2.15 * Z(1) + 2.15 * Z(2) + 30 * I(1) + 30 * Z(0) + 30 * Z(1) + 30 * Z(2)\n"
     ]
    },
    {
     "name": "stderr",
     "output_type": "stream",
     "text": [
      "100%|██████████| 4/4 [00:00<00:00, 13.85it/s]\n"
     ]
    },
    {
     "name": "stdout",
     "output_type": "stream",
     "text": [
      "2.0 * Z(0) + 1.7 * Z(1) + 0.7 * Z(2) + 30 * I(1) + 30 * Z(0) + 30 * Z(1) + 30 * Z(2)\n"
     ]
    },
    {
     "name": "stderr",
     "output_type": "stream",
     "text": [
      "  0%|          | 0/4 [00:00<?, ?it/s]"
     ]
    },
    {
     "name": "stdout",
     "output_type": "stream",
     "text": [
      "2.9 * Z(0) + 2.9 * Z(1) + 3.8 * Z(2) + 4.4 * Z(3) + 60 * I(1) + 30 * Z(0) + 30 * Z(1) + 30 * Z(2) + 30 * Z(3)\n",
      "2.0 * Z(0) + 1.7 * Z(1) + 0.7 * Z(2) + 30 * I(1) + 30 * Z(0) + 30 * Z(1) + 30 * Z(2)\n"
     ]
    },
    {
     "name": "stderr",
     "output_type": "stream",
     "text": [
      " 50%|█████     | 2/4 [00:00<00:00, 15.33it/s]"
     ]
    },
    {
     "name": "stdout",
     "output_type": "stream",
     "text": [
      "0.85 * Z(0) + 1.75 * Z(1) + 2.35 * Z(2) + 30 * I(1) + 30 * Z(0) + 30 * Z(1) + 30 * Z(2)\n",
      "1.2 * Z(0) + 2.15 * Z(1) + 2.15 * Z(2) + 30 * I(1) + 30 * Z(0) + 30 * Z(1) + 30 * Z(2)\n"
     ]
    },
    {
     "name": "stderr",
     "output_type": "stream",
     "text": [
      "100%|██████████| 4/4 [00:00<00:00, 13.93it/s]\n",
      "  0%|          | 0/4 [00:00<?, ?it/s]"
     ]
    },
    {
     "name": "stdout",
     "output_type": "stream",
     "text": [
      "2.9 * Z(0) + 2.9 * Z(1) + 3.8 * Z(2) + 4.4 * Z(3) + 60 * I(1) + 30 * Z(0) + 30 * Z(1) + 30 * Z(2) + 30 * Z(3)\n"
     ]
    },
    {
     "name": "stderr",
     "output_type": "stream",
     "text": [
      " 25%|██▌       | 1/4 [00:00<00:00,  8.45it/s]"
     ]
    },
    {
     "name": "stdout",
     "output_type": "stream",
     "text": [
      "2.55 * Z(0) + 2.25 * Z(1) + 0.7 * Z(2) + 30 * I(1) + 30 * Z(0) + 30 * Z(1) + 30 * Z(2)\n",
      "2.0 * Z(0) + 1.7 * Z(1) + 0.7 * Z(2) + 30 * I(1) + 30 * Z(0) + 30 * Z(1) + 30 * Z(2)\n"
     ]
    },
    {
     "name": "stderr",
     "output_type": "stream",
     "text": [
      " 75%|███████▌  | 3/4 [00:00<00:00, 11.65it/s]"
     ]
    },
    {
     "name": "stdout",
     "output_type": "stream",
     "text": [
      "1.2 * Z(0) + 2.15 * Z(1) + 2.15 * Z(2) + 30 * I(1) + 30 * Z(0) + 30 * Z(1) + 30 * Z(2)\n"
     ]
    },
    {
     "name": "stderr",
     "output_type": "stream",
     "text": [
      "100%|██████████| 4/4 [00:00<00:00, 12.01it/s]\n",
      " 50%|█████     | 2/4 [00:00<00:00, 15.68it/s]"
     ]
    },
    {
     "name": "stdout",
     "output_type": "stream",
     "text": [
      "2.9 * Z(0) + 2.9 * Z(1) + 3.8 * Z(2) + 4.4 * Z(3) + 60 * I(1) + 30 * Z(0) + 30 * Z(1) + 30 * Z(2) + 30 * Z(3)\n",
      "0.85 * Z(0) + 1.75 * Z(1) + 2.35 * Z(2) + 30 * I(1) + 30 * Z(0) + 30 * Z(1) + 30 * Z(2)\n",
      "2.0 * Z(0) + 1.7 * Z(1) + 0.7 * Z(2) + 30 * I(1) + 30 * Z(0) + 30 * Z(1) + 30 * Z(2)\n",
      "2.55 * Z(0) + 2.25 * Z(1) + 0.7 * Z(2) + 30 * I(1) + 30 * Z(0) + 30 * Z(1) + 30 * Z(2)\n"
     ]
    },
    {
     "name": "stderr",
     "output_type": "stream",
     "text": [
      "100%|██████████| 4/4 [00:00<00:00, 15.44it/s]\n",
      " 50%|█████     | 2/4 [00:00<00:00, 15.27it/s]"
     ]
    },
    {
     "name": "stdout",
     "output_type": "stream",
     "text": [
      "2.9 * Z(0) + 2.9 * Z(1) + 3.8 * Z(2) + 4.4 * Z(3) + 60 * I(1) + 30 * Z(0) + 30 * Z(1) + 30 * Z(2) + 30 * Z(3)\n",
      "2.55 * Z(0) + 2.25 * Z(1) + 0.7 * Z(2) + 30 * I(1) + 30 * Z(0) + 30 * Z(1) + 30 * Z(2)\n",
      "1.2 * Z(0) + 2.15 * Z(1) + 2.15 * Z(2) + 30 * I(1) + 30 * Z(0) + 30 * Z(1) + 30 * Z(2)\n",
      "2.0 * Z(0) + 1.7 * Z(1) + 0.7 * Z(2) + 30 * I(1) + 30 * Z(0) + 30 * Z(1) + 30 * Z(2)\n"
     ]
    },
    {
     "name": "stderr",
     "output_type": "stream",
     "text": [
      "100%|██████████| 4/4 [00:00<00:00, 15.15it/s]\n",
      " 50%|█████     | 2/4 [00:00<00:00, 15.80it/s]"
     ]
    },
    {
     "name": "stdout",
     "output_type": "stream",
     "text": [
      "2.9 * Z(0) + 2.9 * Z(1) + 3.8 * Z(2) + 4.4 * Z(3) + 60 * I(1) + 30 * Z(0) + 30 * Z(1) + 30 * Z(2) + 30 * Z(3)\n",
      "2.55 * Z(0) + 2.25 * Z(1) + 0.7 * Z(2) + 30 * I(1) + 30 * Z(0) + 30 * Z(1) + 30 * Z(2)\n",
      "2.0 * Z(0) + 1.7 * Z(1) + 0.7 * Z(2) + 30 * I(1) + 30 * Z(0) + 30 * Z(1) + 30 * Z(2)\n"
     ]
    },
    {
     "name": "stderr",
     "output_type": "stream",
     "text": [
      "100%|██████████| 4/4 [00:00<00:00, 14.71it/s]\n"
     ]
    },
    {
     "name": "stdout",
     "output_type": "stream",
     "text": [
      "0.85 * Z(0) + 1.75 * Z(1) + 2.35 * Z(2) + 30 * I(1) + 30 * Z(0) + 30 * Z(1) + 30 * Z(2)\n"
     ]
    },
    {
     "name": "stderr",
     "output_type": "stream",
     "text": [
      " 50%|█████     | 2/4 [00:00<00:00, 15.82it/s]"
     ]
    },
    {
     "name": "stdout",
     "output_type": "stream",
     "text": [
      "2.9 * Z(0) + 2.9 * Z(1) + 3.8 * Z(2) + 4.4 * Z(3) + 60 * I(1) + 30 * Z(0) + 30 * Z(1) + 30 * Z(2) + 30 * Z(3)\n",
      "2.0 * Z(0) + 1.7 * Z(1) + 0.7 * Z(2) + 30 * I(1) + 30 * Z(0) + 30 * Z(1) + 30 * Z(2)\n",
      "2.55 * Z(0) + 2.25 * Z(1) + 0.7 * Z(2) + 30 * I(1) + 30 * Z(0) + 30 * Z(1) + 30 * Z(2)\n",
      "1.2 * Z(0) + 2.15 * Z(1) + 2.15 * Z(2) + 30 * I(1) + 30 * Z(0) + 30 * Z(1) + 30 * Z(2)\n"
     ]
    },
    {
     "name": "stderr",
     "output_type": "stream",
     "text": [
      "100%|██████████| 4/4 [00:00<00:00, 15.23it/s]\n",
      " 50%|█████     | 2/4 [00:00<00:00, 15.75it/s]"
     ]
    },
    {
     "name": "stdout",
     "output_type": "stream",
     "text": [
      "2.9 * Z(0) + 2.9 * Z(1) + 3.8 * Z(2) + 4.4 * Z(3) + 60 * I(1) + 30 * Z(0) + 30 * Z(1) + 30 * Z(2) + 30 * Z(3)\n",
      "0.85 * Z(0) + 1.75 * Z(1) + 2.35 * Z(2) + 30 * I(1) + 30 * Z(0) + 30 * Z(1) + 30 * Z(2)\n",
      "2.0 * Z(0) + 1.7 * Z(1) + 0.7 * Z(2) + 30 * I(1) + 30 * Z(0) + 30 * Z(1) + 30 * Z(2)\n",
      "1.2 * Z(0) + 2.15 * Z(1) + 2.15 * Z(2) + 30 * I(1) + 30 * Z(0) + 30 * Z(1) + 30 * Z(2)\n"
     ]
    },
    {
     "name": "stderr",
     "output_type": "stream",
     "text": [
      "100%|██████████| 4/4 [00:00<00:00, 15.20it/s]\n"
     ]
    }
   ],
   "source": [
    "weights = np.random.uniform(0, np.pi, size=n_qubits, requires_grad=True)\n",
    "minimized = minimize(x0=weights, fun=train, args=(model, relations), method=\"COBYLA\")"
   ]
  },
  {
   "cell_type": "code",
   "execution_count": 75,
   "id": "feab066d",
   "metadata": {},
   "outputs": [],
   "source": [
    "def simulate_path(starting_node:str, relations:DistancesRelations, weights:Weights, model:Model):\n",
    "    path = []\n",
    "    path_size = 0\n",
    "\n",
    "    current_node = starting_node\n",
    "\n",
    "    for step in range(steps):\n",
    "        next_nodes, distances = get_step_distances(current_node, relations)\n",
    "        counts = model(distances, path_size,  weights)\n",
    "        print(counts)\n",
    "        \n",
    "        "
   ]
  },
  {
   "cell_type": "code",
   "execution_count": 84,
   "id": "8b884598",
   "metadata": {},
   "outputs": [
    {
     "name": "stdout",
     "output_type": "stream",
     "text": [
      "Distances: [5.8, 5.8, 7.6, 8.8]\n",
      "Farest Distance: 8.8\n",
      "[{np.str_('0000'): np.int64(22), np.str_('0001'): np.int64(3), np.str_('0010'): np.int64(11), np.str_('0100'): np.int64(26), np.str_('0110'): np.int64(555), np.str_('1001'): np.int64(76), np.str_('1011'): np.int64(5), np.str_('1101'): np.int64(111), np.str_('1111'): np.int64(191)}]\n",
      "Distances: [5.8, 5.8, 7.6, 8.8]\n",
      "Farest Distance: 8.8\n",
      "[{np.str_('0000'): np.int64(25), np.str_('0001'): np.int64(2), np.str_('0010'): np.int64(10), np.str_('0100'): np.int64(30), np.str_('0110'): np.int64(536), np.str_('1000'): np.int64(2), np.str_('1001'): np.int64(76), np.str_('1010'): np.int64(3), np.str_('1011'): np.int64(1), np.str_('1101'): np.int64(138), np.str_('1110'): np.int64(1), np.str_('1111'): np.int64(176)}]\n",
      "Distances: [5.8, 5.8, 7.6, 8.8]\n",
      "Farest Distance: 8.8\n",
      "[{np.str_('0000'): np.int64(23), np.str_('0001'): np.int64(2), np.str_('0010'): np.int64(12), np.str_('0100'): np.int64(27), np.str_('0110'): np.int64(596), np.str_('1001'): np.int64(66), np.str_('1010'): np.int64(1), np.str_('1011'): np.int64(4), np.str_('1101'): np.int64(92), np.str_('1111'): np.int64(177)}]\n",
      "Distances: [5.8, 5.8, 7.6, 8.8]\n",
      "Farest Distance: 8.8\n",
      "[{np.str_('0000'): np.int64(27), np.str_('0001'): np.int64(1), np.str_('0010'): np.int64(15), np.str_('0100'): np.int64(34), np.str_('0110'): np.int64(547), np.str_('1001'): np.int64(96), np.str_('1011'): np.int64(5), np.str_('1101'): np.int64(117), np.str_('1111'): np.int64(158)}]\n"
     ]
    }
   ],
   "source": [
    "simulate_path(starting_point, relations, minimized.x, model)"
   ]
  }
 ],
 "metadata": {
  "kernelspec": {
   "display_name": "path-optimization",
   "language": "python",
   "name": "python3"
  },
  "language_info": {
   "codemirror_mode": {
    "name": "ipython",
    "version": 3
   },
   "file_extension": ".py",
   "mimetype": "text/x-python",
   "name": "python",
   "nbconvert_exporter": "python",
   "pygments_lexer": "ipython3",
   "version": "3.12.7"
  }
 },
 "nbformat": 4,
 "nbformat_minor": 5
}
