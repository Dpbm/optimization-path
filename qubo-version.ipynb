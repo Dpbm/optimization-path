{
 "cells": [
  {
   "cell_type": "code",
   "execution_count": 103,
   "id": "fea673fd-c797-4357-9cd9-113941958e5d",
   "metadata": {},
   "outputs": [],
   "source": [
    "import dimod\n",
    "from data import relations, starting_point, labels"
   ]
  },
  {
   "cell_type": "code",
   "execution_count": 110,
   "id": "a6f8d9ba-9754-4286-a72a-ebd2f997be4e",
   "metadata": {},
   "outputs": [],
   "source": [
    "model = dimod.BQM(\"BINARY\")\n",
    "\n",
    "P = 20 # the lagrange term for penality\n",
    "valid_relation = lambda relation: relation[0] != relation[1] and relation[1] != starting_point  # only nodes that goes forward and doesn't create any loops\n",
    "\n",
    "current_node = starting_point \n",
    "all_nodes_terms_contraint = []\n",
    "visited_nodes_per_step_constraint_terms = []\n",
    "visited_target_nodes_constraint_terms_per_label = {label:[] for label in labels} \n",
    "\n",
    "for relation, distance in relations.items():\n",
    "    if(not valid_relation(relation)):\n",
    "        continue\n",
    "\n",
    "    if(relation[0] != current_node):\n",
    "        # before start adding the relations from a different node\n",
    "        # add a constraint to ensure that only one node (-1 as C) is visited at a time\n",
    "        model.add_linear_equality_constraint(visited_nodes_per_step_constraint_terms, P, -1) # \n",
    "        visited_nodes_per_step_constraint_terms = []\n",
    "        current_node = relation[0]\n",
    "\n",
    "    visited_nodes_per_step_constraint_terms.append((relation,1))\n",
    "    all_nodes_terms_contraint.append((relation,1))\n",
    "\n",
    "    # keep track of target nodes that we visited, just one must be visited in the whole path\n",
    "    visited_target_nodes_constraint_terms_per_label[relation[1]].append((relation,1))\n",
    "    \n",
    "    model.add_linear(relation,distance)\n",
    "\n",
    "    \n",
    "# ensure that our resulting combination contains only 4 ones (-4 as C)\n",
    "model.add_linear_equality_constraint(all_nodes_terms_contraint, P, -4)\n",
    "\n",
    "# apply the visited target constraints, as I told before, only one must be visited\n",
    "for targets in visited_target_nodes_constraint_terms_per_label.values():\n",
    "    model.add_linear_equality_constraint(targets, P, -1)"
   ]
  },
  {
   "cell_type": "code",
   "execution_count": 132,
   "id": "d71d20a6-1c27-42c5-91bb-894891cbeaf4",
   "metadata": {},
   "outputs": [],
   "source": [
    "sampler = dimod.ExactSolver()\n",
    "results = sampler.sample(model)\n",
    "shortest_path = results.lowest()"
   ]
  },
  {
   "cell_type": "code",
   "execution_count": 144,
   "id": "aff44c88-c596-42c6-bc5f-b52b50da60c6",
   "metadata": {},
   "outputs": [],
   "source": [
    "df = results.to_pandas_dataframe(sample_column=True) \n",
    "df.to_csv(\"qubo-results.csv\", sep=',', encoding='utf-8', index=False, header=True)"
   ]
  },
  {
   "cell_type": "code",
   "execution_count": 143,
   "id": "3c76bf27-4164-49cd-b601-95b52ff7fda8",
   "metadata": {},
   "outputs": [
    {
     "name": "stdout",
     "output_type": "stream",
     "text": [
      "Path: AB BC CD DE \n",
      "Path size: 13.1\n"
     ]
    }
   ],
   "source": [
    "shortest_path_data = next(shortest_path.data()).sample\n",
    "path_size = 0\n",
    "\n",
    "print(\"Path: \", end=\"\")\n",
    "\n",
    "for label, value in shortest_path_data.items():\n",
    "    if(value == 0):\n",
    "        continue\n",
    "    path_size += relations[label]        \n",
    "    print(label, end=\" \")\n",
    "\n",
    "print(f\"\\nPath size: {path_size}\")"
   ]
  }
 ],
 "metadata": {
  "kernelspec": {
   "display_name": "Python 3 (ipykernel)",
   "language": "python",
   "name": "python3"
  },
  "language_info": {
   "codemirror_mode": {
    "name": "ipython",
    "version": 3
   },
   "file_extension": ".py",
   "mimetype": "text/x-python",
   "name": "python",
   "nbconvert_exporter": "python",
   "pygments_lexer": "ipython3",
   "version": "3.12.8"
  }
 },
 "nbformat": 4,
 "nbformat_minor": 5
}
