{
 "cells": [
  {
   "cell_type": "code",
   "execution_count": 31,
   "id": "90496349-7b8b-4933-a895-aca0950ace1c",
   "metadata": {},
   "outputs": [],
   "source": [
    "%matplotlib inline\n",
    "import pennylane as qml\n",
    "from pennylane import numpy as np\n",
    "from pennylane.templates import ApproxTimeEvolution\n",
    "import pandas as pd"
   ]
  },
  {
   "cell_type": "markdown",
   "id": "b685a5d3-f3ac-4536-b630-1536e8f4e158",
   "metadata": {},
   "source": [
    "![problem graph](./assets/graph.png)"
   ]
  },
  {
   "cell_type": "code",
   "execution_count": 5,
   "id": "240d4ad0-77d0-4211-9d71-9161df9a4ee7",
   "metadata": {},
   "outputs": [
    {
     "data": {
      "text/html": [
       "<div>\n",
       "<style scoped>\n",
       "    .dataframe tbody tr th:only-of-type {\n",
       "        vertical-align: middle;\n",
       "    }\n",
       "\n",
       "    .dataframe tbody tr th {\n",
       "        vertical-align: top;\n",
       "    }\n",
       "\n",
       "    .dataframe thead th {\n",
       "        text-align: right;\n",
       "    }\n",
       "</style>\n",
       "<table border=\"1\" class=\"dataframe\">\n",
       "  <thead>\n",
       "    <tr style=\"text-align: right;\">\n",
       "      <th></th>\n",
       "      <th>A</th>\n",
       "      <th>B</th>\n",
       "      <th>C</th>\n",
       "      <th>D</th>\n",
       "      <th>E</th>\n",
       "    </tr>\n",
       "  </thead>\n",
       "  <tbody>\n",
       "    <tr>\n",
       "      <th>A</th>\n",
       "      <td>0.0</td>\n",
       "      <td>5.8</td>\n",
       "      <td>5.8</td>\n",
       "      <td>7.6</td>\n",
       "      <td>8.8</td>\n",
       "    </tr>\n",
       "    <tr>\n",
       "      <th>B</th>\n",
       "      <td>5.3</td>\n",
       "      <td>0.0</td>\n",
       "      <td>2.4</td>\n",
       "      <td>4.3</td>\n",
       "      <td>4.3</td>\n",
       "    </tr>\n",
       "    <tr>\n",
       "      <th>C</th>\n",
       "      <td>7.1</td>\n",
       "      <td>1.7</td>\n",
       "      <td>0.0</td>\n",
       "      <td>3.5</td>\n",
       "      <td>4.7</td>\n",
       "    </tr>\n",
       "    <tr>\n",
       "      <th>D</th>\n",
       "      <td>8.7</td>\n",
       "      <td>4.0</td>\n",
       "      <td>3.4</td>\n",
       "      <td>0.0</td>\n",
       "      <td>1.4</td>\n",
       "    </tr>\n",
       "    <tr>\n",
       "      <th>E</th>\n",
       "      <td>9.8</td>\n",
       "      <td>5.1</td>\n",
       "      <td>4.5</td>\n",
       "      <td>1.4</td>\n",
       "      <td>0.0</td>\n",
       "    </tr>\n",
       "  </tbody>\n",
       "</table>\n",
       "</div>"
      ],
      "text/plain": [
       "     A    B    C    D    E\n",
       "A  0.0  5.8  5.8  7.6  8.8\n",
       "B  5.3  0.0  2.4  4.3  4.3\n",
       "C  7.1  1.7  0.0  3.5  4.7\n",
       "D  8.7  4.0  3.4  0.0  1.4\n",
       "E  9.8  5.1  4.5  1.4  0.0"
      ]
     },
     "execution_count": 5,
     "metadata": {},
     "output_type": "execute_result"
    }
   ],
   "source": [
    "\"\"\"\n",
    "  A = c(0, 5.8, 5.8, 7.6, 8.8)\n",
    "  B = c(5.3, 0, 2.4, 4.3, 4.3)\n",
    "  C = c(7.1, 1.7, 0, 3.5, 4.7)\n",
    "  D = c(8.7, 4.0, 3.4, 0, 1.4)\n",
    "  E = c(9.8, 5.1, 4.5, 1.4, 0)\n",
    "\"\"\"\n",
    "\n",
    "idx = pd.Index(['A', 'B', 'C', 'D', 'E'])\n",
    "\n",
    "df = pd.DataFrame([\n",
    "    [0, 5.8, 5.8, 7.6, 8.8],\n",
    "    [5.3, 0, 2.4, 4.3, 4.3],\n",
    "    [7.1, 1.7, 0, 3.5, 4.7],\n",
    "    [8.7, 4.0, 3.4, 0, 1.4],\n",
    "    [9.8, 5.1, 4.5, 1.4, 0]\n",
    "], columns=['A', 'B', 'C', 'D', 'E'], index=idx)\n",
    "df"
   ]
  },
  {
   "cell_type": "code",
   "execution_count": 7,
   "id": "d4c98178-8c77-42a7-9c2c-4da0bbd10c20",
   "metadata": {},
   "outputs": [
    {
     "name": "stdout",
     "output_type": "stream",
     "text": [
      "total used qubits: 5\n"
     ]
    }
   ],
   "source": [
    "total_qubits = df.shape[0]\n",
    "print(f\"total used qubits: {total_qubits}\")"
   ]
  },
  {
   "cell_type": "code",
   "execution_count": 8,
   "id": "82e36f76-8926-4c37-94a6-0aa0a9de47d6",
   "metadata": {},
   "outputs": [
    {
     "data": {
      "text/plain": [
       "tensor([[0., 0., 0., ..., 0., 0., 0.],\n",
       "        [0., 0., 0., ..., 0., 0., 0.],\n",
       "        [0., 0., 0., ..., 0., 0., 0.],\n",
       "        ...,\n",
       "        [0., 0., 0., ..., 0., 0., 0.],\n",
       "        [0., 0., 0., ..., 0., 0., 0.],\n",
       "        [0., 0., 0., ..., 0., 0., 0.]], requires_grad=True)"
      ]
     },
     "execution_count": 8,
     "metadata": {},
     "output_type": "execute_result"
    }
   ],
   "source": [
    "H = np.zeros((2 ** total_qubits, 2 ** total_qubits))\n",
    "H"
   ]
  },
  {
   "cell_type": "code",
   "execution_count": 37,
   "id": "7ac76853-c557-4d85-b53b-0c5222f51c5a",
   "metadata": {},
   "outputs": [],
   "source": [
    "def tsp_hamiltonian(distances):\n",
    "    num_cities = len(distances)\n",
    "    H = np.zeros((2 ** num_cities, 2 ** num_cities))\n",
    "\n",
    "    for i in range(num_cities):\n",
    "        for j in range(num_cities):\n",
    "            if i != j:\n",
    "                for k in range(num_cities):\n",
    "                    H += distances[i, j] * np.kron(np.kron(np.eye(2 ** k), np.outer([1, 0], [0, -1])), np.eye(2 ** (num_cities - k - 1)))\n",
    "    return qml.Hamiltonian(H, [qml.PauliZ(i) for i in range(num_cities)])"
   ]
  },
  {
   "cell_type": "code",
   "execution_count": 38,
   "id": "f0e7d598-5bfa-40a4-a240-1381f25f0912",
   "metadata": {},
   "outputs": [],
   "source": [
    "dev = qml.device('default.qubit', wires=total_qubits)\n",
    "\n",
    "@qml.qnode(dev)\n",
    "def circuit(data, time):\n",
    "    ApproxTimeEvolution(tsp_hamiltonian(data), time, 1)\n",
    "    return qml.expval(qml.PauliZ(0))"
   ]
  },
  {
   "cell_type": "code",
   "execution_count": 33,
   "id": "13b954b4-5b36-4e6d-842e-59db99a43fe7",
   "metadata": {},
   "outputs": [
    {
     "ename": "ValueError",
     "evalue": "hamiltonian must be of type pennylane.Hamiltonian, got tensor",
     "output_type": "error",
     "traceback": [
      "\u001b[0;31m---------------------------------------------------------------------------\u001b[0m",
      "\u001b[0;31mValueError\u001b[0m                                Traceback (most recent call last)",
      "Cell \u001b[0;32mIn[33], line 1\u001b[0m\n\u001b[0;32m----> 1\u001b[0m \u001b[43mcircuit\u001b[49m\u001b[43m(\u001b[49m\u001b[43mdf\u001b[49m\u001b[38;5;241;43m.\u001b[39;49m\u001b[43mto_numpy\u001b[49m\u001b[43m(\u001b[49m\u001b[43m)\u001b[49m\u001b[43m,\u001b[49m\u001b[38;5;241;43m1\u001b[39;49m\u001b[43m)\u001b[49m\n",
      "File \u001b[0;32m~/.asdf/installs/python/miniconda3-4.7.12/envs/path-optimization/lib/python3.10/site-packages/pennylane/qnode.py:970\u001b[0m, in \u001b[0;36mQNode.__call__\u001b[0;34m(self, *args, **kwargs)\u001b[0m\n\u001b[1;32m    967\u001b[0m         kwargs[\u001b[38;5;124m\"\u001b[39m\u001b[38;5;124mshots\u001b[39m\u001b[38;5;124m\"\u001b[39m] \u001b[38;5;241m=\u001b[39m _get_device_shots(\u001b[38;5;28mself\u001b[39m\u001b[38;5;241m.\u001b[39m_original_device)\n\u001b[1;32m    969\u001b[0m \u001b[38;5;66;03m# construct the tape\u001b[39;00m\n\u001b[0;32m--> 970\u001b[0m \u001b[38;5;28;43mself\u001b[39;49m\u001b[38;5;241;43m.\u001b[39;49m\u001b[43mconstruct\u001b[49m\u001b[43m(\u001b[49m\u001b[43margs\u001b[49m\u001b[43m,\u001b[49m\u001b[43m \u001b[49m\u001b[43mkwargs\u001b[49m\u001b[43m)\u001b[49m\n\u001b[1;32m    972\u001b[0m cache \u001b[38;5;241m=\u001b[39m \u001b[38;5;28mself\u001b[39m\u001b[38;5;241m.\u001b[39mexecute_kwargs\u001b[38;5;241m.\u001b[39mget(\u001b[38;5;124m\"\u001b[39m\u001b[38;5;124mcache\u001b[39m\u001b[38;5;124m\"\u001b[39m, \u001b[38;5;28;01mFalse\u001b[39;00m)\n\u001b[1;32m    973\u001b[0m using_custom_cache \u001b[38;5;241m=\u001b[39m (\n\u001b[1;32m    974\u001b[0m     \u001b[38;5;28mhasattr\u001b[39m(cache, \u001b[38;5;124m\"\u001b[39m\u001b[38;5;124m__getitem__\u001b[39m\u001b[38;5;124m\"\u001b[39m)\n\u001b[1;32m    975\u001b[0m     \u001b[38;5;129;01mand\u001b[39;00m \u001b[38;5;28mhasattr\u001b[39m(cache, \u001b[38;5;124m\"\u001b[39m\u001b[38;5;124m__setitem__\u001b[39m\u001b[38;5;124m\"\u001b[39m)\n\u001b[1;32m    976\u001b[0m     \u001b[38;5;129;01mand\u001b[39;00m \u001b[38;5;28mhasattr\u001b[39m(cache, \u001b[38;5;124m\"\u001b[39m\u001b[38;5;124m__delitem__\u001b[39m\u001b[38;5;124m\"\u001b[39m)\n\u001b[1;32m    977\u001b[0m )\n",
      "File \u001b[0;32m~/.asdf/installs/python/miniconda3-4.7.12/envs/path-optimization/lib/python3.10/site-packages/pennylane/qnode.py:856\u001b[0m, in \u001b[0;36mQNode.construct\u001b[0;34m(self, args, kwargs)\u001b[0m\n\u001b[1;32m    853\u001b[0m     \u001b[38;5;28mself\u001b[39m\u001b[38;5;241m.\u001b[39minterface \u001b[38;5;241m=\u001b[39m qml\u001b[38;5;241m.\u001b[39mmath\u001b[38;5;241m.\u001b[39mget_interface(\u001b[38;5;241m*\u001b[39margs, \u001b[38;5;241m*\u001b[39m\u001b[38;5;28mlist\u001b[39m(kwargs\u001b[38;5;241m.\u001b[39mvalues()))\n\u001b[1;32m    855\u001b[0m \u001b[38;5;28;01mwith\u001b[39;00m qml\u001b[38;5;241m.\u001b[39mqueuing\u001b[38;5;241m.\u001b[39mAnnotatedQueue() \u001b[38;5;28;01mas\u001b[39;00m q:\n\u001b[0;32m--> 856\u001b[0m     \u001b[38;5;28mself\u001b[39m\u001b[38;5;241m.\u001b[39m_qfunc_output \u001b[38;5;241m=\u001b[39m \u001b[38;5;28;43mself\u001b[39;49m\u001b[38;5;241;43m.\u001b[39;49m\u001b[43mfunc\u001b[49m\u001b[43m(\u001b[49m\u001b[38;5;241;43m*\u001b[39;49m\u001b[43margs\u001b[49m\u001b[43m,\u001b[49m\u001b[43m \u001b[49m\u001b[38;5;241;43m*\u001b[39;49m\u001b[38;5;241;43m*\u001b[39;49m\u001b[43mkwargs\u001b[49m\u001b[43m)\u001b[49m\n\u001b[1;32m    858\u001b[0m \u001b[38;5;28mself\u001b[39m\u001b[38;5;241m.\u001b[39m_tape \u001b[38;5;241m=\u001b[39m QuantumScript\u001b[38;5;241m.\u001b[39mfrom_queue(q, shots)\n\u001b[1;32m    860\u001b[0m params \u001b[38;5;241m=\u001b[39m \u001b[38;5;28mself\u001b[39m\u001b[38;5;241m.\u001b[39mtape\u001b[38;5;241m.\u001b[39mget_parameters(trainable_only\u001b[38;5;241m=\u001b[39m\u001b[38;5;28;01mFalse\u001b[39;00m)\n",
      "Cell \u001b[0;32mIn[32], line 5\u001b[0m, in \u001b[0;36mcircuit\u001b[0;34m(data, time)\u001b[0m\n\u001b[1;32m      3\u001b[0m \u001b[38;5;129m@qml\u001b[39m\u001b[38;5;241m.\u001b[39mqnode(dev)\n\u001b[1;32m      4\u001b[0m \u001b[38;5;28;01mdef\u001b[39;00m \u001b[38;5;21mcircuit\u001b[39m(data, time):\n\u001b[0;32m----> 5\u001b[0m     \u001b[43mApproxTimeEvolution\u001b[49m\u001b[43m(\u001b[49m\u001b[43mtsp_hamiltonian\u001b[49m\u001b[43m(\u001b[49m\u001b[43mdata\u001b[49m\u001b[43m)\u001b[49m\u001b[43m,\u001b[49m\u001b[43m \u001b[49m\u001b[43mtime\u001b[49m\u001b[43m,\u001b[49m\u001b[43m \u001b[49m\u001b[38;5;241;43m1\u001b[39;49m\u001b[43m)\u001b[49m\n\u001b[1;32m      6\u001b[0m     \u001b[38;5;28;01mreturn\u001b[39;00m qml\u001b[38;5;241m.\u001b[39mexpval(qml\u001b[38;5;241m.\u001b[39mPauliZ(\u001b[38;5;241m0\u001b[39m))\n",
      "File \u001b[0;32m~/.asdf/installs/python/miniconda3-4.7.12/envs/path-optimization/lib/python3.10/site-packages/pennylane/templates/subroutines/approx_time_evolution.py:125\u001b[0m, in \u001b[0;36mApproxTimeEvolution.__init__\u001b[0;34m(self, hamiltonian, time, n, id)\u001b[0m\n\u001b[1;32m    123\u001b[0m \u001b[38;5;28;01mdef\u001b[39;00m \u001b[38;5;21m__init__\u001b[39m(\u001b[38;5;28mself\u001b[39m, hamiltonian, time, n, \u001b[38;5;28mid\u001b[39m\u001b[38;5;241m=\u001b[39m\u001b[38;5;28;01mNone\u001b[39;00m):\n\u001b[1;32m    124\u001b[0m     \u001b[38;5;28;01mif\u001b[39;00m \u001b[38;5;129;01mnot\u001b[39;00m \u001b[38;5;28misinstance\u001b[39m(hamiltonian, qml\u001b[38;5;241m.\u001b[39mHamiltonian):\n\u001b[0;32m--> 125\u001b[0m         \u001b[38;5;28;01mraise\u001b[39;00m \u001b[38;5;167;01mValueError\u001b[39;00m(\n\u001b[1;32m    126\u001b[0m             \u001b[38;5;124mf\u001b[39m\u001b[38;5;124m\"\u001b[39m\u001b[38;5;124mhamiltonian must be of type pennylane.Hamiltonian, got \u001b[39m\u001b[38;5;132;01m{\u001b[39;00m\u001b[38;5;28mtype\u001b[39m(hamiltonian)\u001b[38;5;241m.\u001b[39m\u001b[38;5;18m__name__\u001b[39m\u001b[38;5;132;01m}\u001b[39;00m\u001b[38;5;124m\"\u001b[39m\n\u001b[1;32m    127\u001b[0m         )\n\u001b[1;32m    129\u001b[0m     \u001b[38;5;66;03m# extract the wires that the op acts on\u001b[39;00m\n\u001b[1;32m    130\u001b[0m     wire_list \u001b[38;5;241m=\u001b[39m [term\u001b[38;5;241m.\u001b[39mwires \u001b[38;5;28;01mfor\u001b[39;00m term \u001b[38;5;129;01min\u001b[39;00m hamiltonian\u001b[38;5;241m.\u001b[39mops]\n",
      "\u001b[0;31mValueError\u001b[0m: hamiltonian must be of type pennylane.Hamiltonian, got tensor"
     ]
    }
   ],
   "source": [
    "circuit(df.to_numpy(),1)"
   ]
  }
 ],
 "metadata": {
  "kernelspec": {
   "display_name": "Python 3 (ipykernel)",
   "language": "python",
   "name": "python3"
  },
  "language_info": {
   "codemirror_mode": {
    "name": "ipython",
    "version": 3
   },
   "file_extension": ".py",
   "mimetype": "text/x-python",
   "name": "python",
   "nbconvert_exporter": "python",
   "pygments_lexer": "ipython3",
   "version": "3.10.13"
  }
 },
 "nbformat": 4,
 "nbformat_minor": 5
}
