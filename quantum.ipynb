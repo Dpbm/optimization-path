{
 "cells": [
  {
   "cell_type": "code",
   "execution_count": 13,
   "id": "90496349-7b8b-4933-a895-aca0950ace1c",
   "metadata": {},
   "outputs": [],
   "source": [
    "%matplotlib inline\n",
    "import pennylane as qml\n",
    "from pennylane import numpy as np\n",
    "from dimod import BQM, ExactSolver\n",
    "import pandas as pd\n",
    "from IPython.display import display, Math"
   ]
  },
  {
   "cell_type": "markdown",
   "id": "b685a5d3-f3ac-4536-b630-1536e8f4e158",
   "metadata": {},
   "source": [
    "![problem graph](./assets/graph.png)"
   ]
  },
  {
   "cell_type": "code",
   "execution_count": 3,
   "id": "240d4ad0-77d0-4211-9d71-9161df9a4ee7",
   "metadata": {},
   "outputs": [
    {
     "data": {
      "text/html": [
       "<style type=\"text/css\">\n",
       "</style>\n",
       "<table id=\"T_8dbb0\">\n",
       "  <caption>Points Distances</caption>\n",
       "  <thead>\n",
       "    <tr>\n",
       "      <th class=\"blank level0\" >&nbsp;</th>\n",
       "      <th id=\"T_8dbb0_level0_col0\" class=\"col_heading level0 col0\" >A</th>\n",
       "      <th id=\"T_8dbb0_level0_col1\" class=\"col_heading level0 col1\" >B</th>\n",
       "      <th id=\"T_8dbb0_level0_col2\" class=\"col_heading level0 col2\" >C</th>\n",
       "      <th id=\"T_8dbb0_level0_col3\" class=\"col_heading level0 col3\" >D</th>\n",
       "      <th id=\"T_8dbb0_level0_col4\" class=\"col_heading level0 col4\" >E</th>\n",
       "    </tr>\n",
       "  </thead>\n",
       "  <tbody>\n",
       "    <tr>\n",
       "      <th id=\"T_8dbb0_level0_row0\" class=\"row_heading level0 row0\" >A</th>\n",
       "      <td id=\"T_8dbb0_row0_col0\" class=\"data row0 col0\" >0.0</td>\n",
       "      <td id=\"T_8dbb0_row0_col1\" class=\"data row0 col1\" >5.8</td>\n",
       "      <td id=\"T_8dbb0_row0_col2\" class=\"data row0 col2\" >5.8</td>\n",
       "      <td id=\"T_8dbb0_row0_col3\" class=\"data row0 col3\" >7.6</td>\n",
       "      <td id=\"T_8dbb0_row0_col4\" class=\"data row0 col4\" >8.8</td>\n",
       "    </tr>\n",
       "    <tr>\n",
       "      <th id=\"T_8dbb0_level0_row1\" class=\"row_heading level0 row1\" >B</th>\n",
       "      <td id=\"T_8dbb0_row1_col0\" class=\"data row1 col0\" >5.8</td>\n",
       "      <td id=\"T_8dbb0_row1_col1\" class=\"data row1 col1\" >0.0</td>\n",
       "      <td id=\"T_8dbb0_row1_col2\" class=\"data row1 col2\" >2.4</td>\n",
       "      <td id=\"T_8dbb0_row1_col3\" class=\"data row1 col3\" >4.3</td>\n",
       "      <td id=\"T_8dbb0_row1_col4\" class=\"data row1 col4\" >4.3</td>\n",
       "    </tr>\n",
       "    <tr>\n",
       "      <th id=\"T_8dbb0_level0_row2\" class=\"row_heading level0 row2\" >C</th>\n",
       "      <td id=\"T_8dbb0_row2_col0\" class=\"data row2 col0\" >5.8</td>\n",
       "      <td id=\"T_8dbb0_row2_col1\" class=\"data row2 col1\" >2.4</td>\n",
       "      <td id=\"T_8dbb0_row2_col2\" class=\"data row2 col2\" >0.0</td>\n",
       "      <td id=\"T_8dbb0_row2_col3\" class=\"data row2 col3\" >3.5</td>\n",
       "      <td id=\"T_8dbb0_row2_col4\" class=\"data row2 col4\" >4.7</td>\n",
       "    </tr>\n",
       "    <tr>\n",
       "      <th id=\"T_8dbb0_level0_row3\" class=\"row_heading level0 row3\" >D</th>\n",
       "      <td id=\"T_8dbb0_row3_col0\" class=\"data row3 col0\" >7.6</td>\n",
       "      <td id=\"T_8dbb0_row3_col1\" class=\"data row3 col1\" >4.3</td>\n",
       "      <td id=\"T_8dbb0_row3_col2\" class=\"data row3 col2\" >3.5</td>\n",
       "      <td id=\"T_8dbb0_row3_col3\" class=\"data row3 col3\" >0.0</td>\n",
       "      <td id=\"T_8dbb0_row3_col4\" class=\"data row3 col4\" >1.4</td>\n",
       "    </tr>\n",
       "    <tr>\n",
       "      <th id=\"T_8dbb0_level0_row4\" class=\"row_heading level0 row4\" >E</th>\n",
       "      <td id=\"T_8dbb0_row4_col0\" class=\"data row4 col0\" >8.8</td>\n",
       "      <td id=\"T_8dbb0_row4_col1\" class=\"data row4 col1\" >4.3</td>\n",
       "      <td id=\"T_8dbb0_row4_col2\" class=\"data row4 col2\" >4.7</td>\n",
       "      <td id=\"T_8dbb0_row4_col3\" class=\"data row4 col3\" >1.4</td>\n",
       "      <td id=\"T_8dbb0_row4_col4\" class=\"data row4 col4\" >0.0</td>\n",
       "    </tr>\n",
       "  </tbody>\n",
       "</table>\n"
      ],
      "text/plain": [
       "<pandas.io.formats.style.Styler at 0x7f190fe93340>"
      ]
     },
     "execution_count": 3,
     "metadata": {},
     "output_type": "execute_result"
    }
   ],
   "source": [
    "idx = pd.Index(['A', 'B', 'C', 'D', 'E'])\n",
    "df = pd.DataFrame([\n",
    "    np.array([0, 5.8, 5.8, 7.6, 8.8], dtype=np.float16),\n",
    "    np.array([5.8, 0, 2.4, 4.3, 4.3], dtype=np.float16),\n",
    "    np.array([5.8, 2.4, 0, 3.5, 4.7], dtype=np.float16),\n",
    "    np.array([7.6, 4.3, 3.5, 0, 1.4], dtype=np.float16),\n",
    "    np.array([8.8, 4.3, 4.7, 1.4, 0], dtype=np.float16),\n",
    "    ], \n",
    "    columns=['A', 'B', 'C', 'D', 'E'], \n",
    "    index=idx)\n",
    "df_cap = df.style.set_caption('Points Distances')\n",
    "df_cap"
   ]
  },
  {
   "cell_type": "markdown",
   "id": "67057fe5-e891-4129-9eb9-e65fce90aa5e",
   "metadata": {},
   "source": [
    "---"
   ]
  },
  {
   "cell_type": "code",
   "execution_count": 10,
   "id": "7ed4ccbf-b1ef-46d9-b0e1-9c1ebb66ed75",
   "metadata": {},
   "outputs": [
    {
     "name": "stdout",
     "output_type": "stream",
     "text": [
      "5.8\n",
      "5.8\n",
      "7.6\n",
      "8.8\n",
      "BinaryQuadraticModel({'x0': -28.0, 'x1': -28.0, 'x2': -28.0, 'x3': -28.0, 'x4': -28.0}, {('x1', 'x0'): 61.80078125, ('x2', 'x0'): 61.80078125, ('x2', 'x1'): 56.0, ('x3', 'x0'): 63.6015625, ('x3', 'x1'): 56.0, ('x3', 'x2'): 56.0, ('x4', 'x0'): 64.796875, ('x4', 'x1'): 56.0, ('x4', 'x2'): 56.0, ('x4', 'x3'): 56.0}, 28.0, 'BINARY')\n"
     ]
    }
   ],
   "source": [
    "# testing using only the first step\n",
    "\n",
    "P = df['A'].sum()\n",
    "\n",
    "quadratic = {}\n",
    "\n",
    "for i,v in enumerate(df['A'][1:]):\n",
    "    print(v)\n",
    "    quadratic[('x0', f'x{i+1}')] = v\n",
    "    \n",
    "qubo = BQM(quadratic, \"BINARY\")\n",
    "qubo.add_linear_equality_constraint([(f'x{i}', 1) for i in range(5)], P, -1)\n",
    "#qubo.to_ising()\n",
    "print(qubo)"
   ]
  },
  {
   "cell_type": "code",
   "execution_count": 5,
   "id": "da3d4e28-dd3c-4d67-9789-32361a283d7e",
   "metadata": {},
   "outputs": [
    {
     "name": "stdout",
     "output_type": "stream",
     "text": [
      "   x0 x1 x2 x3 x4     energy num_oc.\n",
      "1   1  0  0  0  0        0.0       1\n",
      "3   0  1  0  0  0        0.0       1\n",
      "7   0  0  1  0  0        0.0       1\n",
      "15  0  0  0  1  0        0.0       1\n",
      "31  0  0  0  0  1        0.0       1\n",
      "0   0  0  0  0  0       28.0       1\n",
      "4   0  1  1  0  0       28.0       1\n",
      "8   0  0  1  1  0       28.0       1\n",
      "12  0  1  0  1  0       28.0       1\n",
      "16  0  0  0  1  1       28.0       1\n",
      "24  0  0  1  0  1       28.0       1\n",
      "28  0  1  0  0  1       28.0       1\n",
      "2   1  1  0  0  0  33.800781       1\n",
      "6   1  0  1  0  0  33.800781       1\n",
      "14  1  0  0  1  0  35.601562       1\n",
      "30  1  0  0  0  1  36.796875       1\n",
      "11  0  1  1  1  0      112.0       1\n",
      "19  0  1  0  1  1      112.0       1\n",
      "23  0  0  1  1  1      112.0       1\n",
      "27  0  1  1  0  1      112.0       1\n",
      "5   1  1  1  0  0 123.601562       1\n",
      "9   1  0  1  1  0 125.402344       1\n",
      "13  1  1  0  1  0 125.402344       1\n",
      "25  1  0  1  0  1 126.597656       1\n",
      "29  1  1  0  0  1 126.597656       1\n",
      "17  1  0  0  1  1 128.398438       1\n",
      "20  0  1  1  1  1      252.0       1\n",
      "10  1  1  1  1  0 271.203125       1\n",
      "26  1  1  1  0  1 272.398438       1\n",
      "18  1  1  0  1  1 274.199219       1\n",
      "22  1  0  1  1  1 274.199219       1\n",
      "21  1  1  1  1  1      476.0       1\n",
      "['BINARY', 32 rows, 32 samples, 5 variables]\n"
     ]
    }
   ],
   "source": [
    "sampler = ExactSolver()\n",
    "sampleset = sampler.sample(qubo)\n",
    "print(sampleset)"
   ]
  },
  {
   "cell_type": "code",
   "execution_count": 6,
   "id": "13e489c6-65f6-4bb7-83e6-0a215431f73b",
   "metadata": {},
   "outputs": [
    {
     "data": {
      "text/html": [
       "<div>\n",
       "<style scoped>\n",
       "    .dataframe tbody tr th:only-of-type {\n",
       "        vertical-align: middle;\n",
       "    }\n",
       "\n",
       "    .dataframe tbody tr th {\n",
       "        vertical-align: top;\n",
       "    }\n",
       "\n",
       "    .dataframe thead th {\n",
       "        text-align: right;\n",
       "    }\n",
       "</style>\n",
       "<table border=\"1\" class=\"dataframe\">\n",
       "  <thead>\n",
       "    <tr style=\"text-align: right;\">\n",
       "      <th></th>\n",
       "      <th>x0</th>\n",
       "      <th>x1</th>\n",
       "      <th>x2</th>\n",
       "      <th>x3</th>\n",
       "      <th>x4</th>\n",
       "      <th>energy</th>\n",
       "    </tr>\n",
       "  </thead>\n",
       "  <tbody>\n",
       "    <tr>\n",
       "      <th>0</th>\n",
       "      <td>0</td>\n",
       "      <td>0</td>\n",
       "      <td>0</td>\n",
       "      <td>0</td>\n",
       "      <td>0</td>\n",
       "      <td>28.000000</td>\n",
       "    </tr>\n",
       "    <tr>\n",
       "      <th>1</th>\n",
       "      <td>1</td>\n",
       "      <td>0</td>\n",
       "      <td>0</td>\n",
       "      <td>0</td>\n",
       "      <td>0</td>\n",
       "      <td>0.000000</td>\n",
       "    </tr>\n",
       "    <tr>\n",
       "      <th>2</th>\n",
       "      <td>1</td>\n",
       "      <td>1</td>\n",
       "      <td>0</td>\n",
       "      <td>0</td>\n",
       "      <td>0</td>\n",
       "      <td>33.800781</td>\n",
       "    </tr>\n",
       "    <tr>\n",
       "      <th>3</th>\n",
       "      <td>0</td>\n",
       "      <td>1</td>\n",
       "      <td>0</td>\n",
       "      <td>0</td>\n",
       "      <td>0</td>\n",
       "      <td>0.000000</td>\n",
       "    </tr>\n",
       "    <tr>\n",
       "      <th>4</th>\n",
       "      <td>0</td>\n",
       "      <td>1</td>\n",
       "      <td>1</td>\n",
       "      <td>0</td>\n",
       "      <td>0</td>\n",
       "      <td>28.000000</td>\n",
       "    </tr>\n",
       "  </tbody>\n",
       "</table>\n",
       "</div>"
      ],
      "text/plain": [
       "   x0  x1  x2  x3  x4     energy\n",
       "0   0   0   0   0   0  28.000000\n",
       "1   1   0   0   0   0   0.000000\n",
       "2   1   1   0   0   0  33.800781\n",
       "3   0   1   0   0   0   0.000000\n",
       "4   0   1   1   0   0  28.000000"
      ]
     },
     "execution_count": 6,
     "metadata": {},
     "output_type": "execute_result"
    }
   ],
   "source": [
    "result = sampleset.to_pandas_dataframe()\n",
    "result = result.drop(['num_occurrences'], axis=1)\n",
    "result.head()"
   ]
  },
  {
   "cell_type": "code",
   "execution_count": 7,
   "id": "2ac41931-9b77-423d-89d3-5b55369e4483",
   "metadata": {},
   "outputs": [
    {
     "name": "stdout",
     "output_type": "stream",
     "text": [
      "min energy ExactSolver():  0.0\n"
     ]
    }
   ],
   "source": [
    "min_energy = result['energy'].min()\n",
    "print('min energy ExactSolver(): ', min_energy)"
   ]
  },
  {
   "cell_type": "code",
   "execution_count": 8,
   "id": "5cf4ee7c-e1e9-4fe8-b6a4-cbfa6996869c",
   "metadata": {},
   "outputs": [
    {
     "data": {
      "text/plain": [
       "['10000', '01000', '00100', '00010', '00001']"
      ]
     },
     "execution_count": 8,
     "metadata": {},
     "output_type": "execute_result"
    }
   ],
   "source": [
    "variables = sampleset.variables.to_serializable()\n",
    "bit_strings = result.where(result['energy'] == min_energy).dropna()[variables].astype(int).astype(str).agg(''.join, axis=0).tolist()\n",
    "bit_strings"
   ]
  },
  {
   "cell_type": "markdown",
   "id": "8940c001-c09b-481b-b2f8-d9e7b10bfd1e",
   "metadata": {},
   "source": [
    "---"
   ]
  },
  {
   "cell_type": "code",
   "execution_count": 32,
   "id": "52cb0c21-0172-4e30-98aa-69694d0f61be",
   "metadata": {},
   "outputs": [
    {
     "data": {
      "text/latex": [
       "$\\displaystyle x0x1 +x0x2 +x0x3 +x0x4 +x1x0 +x1x2 +x1x3 +x1x4 +x2x0 +x2x1 +x2x3 +x2x4 +x3x0 +x3x1 +x3x2 +x3x4 +x4x0 +x4x1 +x4x2 +x4x3 $"
      ],
      "text/plain": [
       "<IPython.core.display.Math object>"
      ]
     },
     "metadata": {},
     "output_type": "display_data"
    },
    {
     "data": {
      "text/latex": [
       "$\\displaystyle 0B+0C+0D+0E+1A+1C+1D+1E+2A+2B+2D+2E+3A+3B+3C+3E+4A+4B+4C+4D$"
      ],
      "text/plain": [
       "<IPython.core.display.Math object>"
      ]
     },
     "metadata": {},
     "output_type": "display_data"
    }
   ],
   "source": [
    "letters = ('A', 'B', 'C', 'D', 'E')\n",
    "\n",
    "variables = ''\n",
    "using_letters = ''\n",
    "\n",
    "for i in range(5):\n",
    "    for j in range(5):\n",
    "        if(i == j):\n",
    "            continue\n",
    "\n",
    "        using_letters += f'{i}{letters[j]}'\n",
    "        variables += f'x{i}x{j} '\n",
    "\n",
    "        if(not (i == 4 and j == 3)):\n",
    "            variables += '+'\n",
    "            using_letters += '+'\n",
    "\n",
    "display(Math(variables))\n",
    "display(Math(using_letters))"
   ]
  },
  {
   "cell_type": "code",
   "execution_count": 33,
   "id": "fe5f12d8-08ef-428d-9ed7-5480790ec719",
   "metadata": {},
   "outputs": [
    {
     "data": {
      "text/latex": [
       "$\\displaystyle x01x2 +x01x3 +x01x4 +x02x1 +x02x3 +x02x4 +x03x1 +x03x2 +x03x4 +x04x1 +x04x2 +x04x3 +x10x2 +x10x3 +x10x4 +x12x0 +x12x3 +x12x4 +x13x0 +x13x2 +x13x4 +x14x0 +x14x2 +x14x3 +x20x1 +x20x3 +x20x4 +x21x0 +x21x3 +x21x4 +x23x0 +x23x1 +x23x4 +x24x0 +x24x1 +x24x3 +x30x1 +x30x2 +x30x4 +x31x0 +x31x2 +x31x4 +x32x0 +x32x1 +x32x4 +x34x0 +x34x1 +x34x2 +x40x1 +x40x2 +x40x3 +x41x0 +x41x2 +x41x3 +x42x0 +x42x1 +x42x3 +x43x0 +x43x1 +x43x2 +$"
      ],
      "text/plain": [
       "<IPython.core.display.Math object>"
      ]
     },
     "metadata": {},
     "output_type": "display_data"
    },
    {
     "data": {
      "text/latex": [
       "$\\displaystyle 0BC+0BD+0BE+0CB+0CD+0CE+0DB+0DC+0DE+0EB+0EC+0ED+1AC+1AD+1AE+1CA+1CD+1CE+1DA+1DC+1DE+1EA+1EC+1ED+2AB+2AD+2AE+2BA+2BD+2BE+2DA+2DB+2DE+2EA+2EB+2ED+3AB+3AC+3AE+3BA+3BC+3BE+3CA+3CB+3CE+3EA+3EB+3EC+4AB+4AC+4AD+4BA+4BC+4BD+4CA+4CB+4CD+4DA+4DB+4DC+$"
      ],
      "text/plain": [
       "<IPython.core.display.Math object>"
      ]
     },
     "metadata": {},
     "output_type": "display_data"
    }
   ],
   "source": [
    "letters = ('A', 'B', 'C', 'D', 'E')\n",
    "\n",
    "variables = ''\n",
    "using_letters = ''\n",
    "\n",
    "for i in range(5):\n",
    "    for j in range(5):\n",
    "        for k in range(5):\n",
    "            if(i == j or j == k or k == i):\n",
    "                continue\n",
    "\n",
    "            #timestamp - last step - actual step\n",
    "            \n",
    "            using_letters += f'{i}{letters[j]}{letters[k]}'\n",
    "            variables += f'x{i}{j}x{k} '\n",
    "    \n",
    "            if(not (i == 4 and j == 4 and k == 3)):\n",
    "                variables += '+'\n",
    "                using_letters += '+'\n",
    "\n",
    "display(Math(variables))\n",
    "display(Math(using_letters))"
   ]
  },
  {
   "cell_type": "markdown",
   "id": "056ab07d-ec8e-40b5-a687-e0f6f897e759",
   "metadata": {},
   "source": [
    "---"
   ]
  },
  {
   "cell_type": "code",
   "execution_count": 39,
   "id": "f97bcf41-6bdc-4d8b-86ff-65f1a2d0ca65",
   "metadata": {},
   "outputs": [],
   "source": [
    "n_steps = df.shape[0]"
   ]
  },
  {
   "cell_type": "code",
   "execution_count": 35,
   "id": "21cc2631-8cc0-4cac-a902-8c296d391122",
   "metadata": {},
   "outputs": [
    {
     "name": "stdout",
     "output_type": "stream",
     "text": [
      "x00\n",
      "x01\n",
      "x02\n",
      "x03\n",
      "x04\n",
      "x10\n",
      "x11\n",
      "x12\n",
      "x13\n",
      "x14\n",
      "x20\n",
      "x21\n",
      "x22\n",
      "x23\n",
      "x24\n",
      "x30\n",
      "x31\n",
      "x32\n",
      "x33\n",
      "x34\n",
      "x40\n",
      "x41\n",
      "x42\n",
      "x43\n",
      "x44\n"
     ]
    }
   ],
   "source": [
    "total_points = df.shape[0]\n",
    "P = 100\n",
    "\n",
    "quadratic = {}\n",
    "\n",
    "\n",
    "for timestep in range(n_steps):\n",
    "    for i in range(total_points):        \n",
    "        first_variable = f'x{timestep}{i}'\n",
    "\n",
    "        for j in range(total_points):\n",
    "            \n",
    "\n",
    "        if(timestep == 0):\n",
    "            break\n",
    "        print(first_variable)\n",
    "    \n",
    "#qubo = BQM(quadratic, \"BINARY\")\n",
    "#qubo.add_linear_equality_constraint([(f'x{i}', 1) for i in range(5)], P, -1)\n",
    "#qubo.to_ising()\n",
    "#print(qubo)"
   ]
  },
  {
   "cell_type": "code",
   "execution_count": null,
   "id": "092fba64-5743-46f0-82f9-d55c6fd73938",
   "metadata": {},
   "outputs": [],
   "source": []
  },
  {
   "cell_type": "code",
   "execution_count": null,
   "id": "83ecf91c-9deb-40e4-8d60-78434ffcb58f",
   "metadata": {},
   "outputs": [],
   "source": []
  },
  {
   "cell_type": "code",
   "execution_count": null,
   "id": "afd32062-4d19-4255-92c9-b6704ce3c2e1",
   "metadata": {},
   "outputs": [],
   "source": []
  },
  {
   "cell_type": "code",
   "execution_count": null,
   "id": "9492cfd5-d828-4512-bf56-f8769eb85895",
   "metadata": {},
   "outputs": [],
   "source": []
  },
  {
   "cell_type": "code",
   "execution_count": null,
   "id": "9bd23a4a-d052-4e35-a9a5-4a8130732af4",
   "metadata": {},
   "outputs": [],
   "source": []
  },
  {
   "cell_type": "code",
   "execution_count": null,
   "id": "8e0ee54b-cd9b-41df-bffc-ddd11ae66fe4",
   "metadata": {},
   "outputs": [],
   "source": []
  },
  {
   "cell_type": "code",
   "execution_count": null,
   "id": "3060ec82-3363-4c48-aa7e-867ce012ade0",
   "metadata": {},
   "outputs": [],
   "source": []
  },
  {
   "cell_type": "code",
   "execution_count": null,
   "id": "bf3f3798-3b63-4611-b0a3-bb69bd0a05a3",
   "metadata": {},
   "outputs": [],
   "source": []
  },
  {
   "cell_type": "code",
   "execution_count": null,
   "id": "a5c8e60b-1708-4b7b-b71a-f5597894bc0d",
   "metadata": {},
   "outputs": [],
   "source": []
  },
  {
   "cell_type": "code",
   "execution_count": null,
   "id": "1ed9ddd3-eb07-4db1-84ae-426f7cae342a",
   "metadata": {},
   "outputs": [],
   "source": []
  },
  {
   "cell_type": "code",
   "execution_count": null,
   "id": "f9543acb-2d6c-4979-b9eb-b749eb69b427",
   "metadata": {},
   "outputs": [],
   "source": []
  },
  {
   "cell_type": "code",
   "execution_count": 9,
   "id": "e8721305-f249-4ce3-8bbf-34a13881ce6c",
   "metadata": {},
   "outputs": [
    {
     "ename": "NameError",
     "evalue": "name 'H' is not defined",
     "output_type": "error",
     "traceback": [
      "\u001b[0;31m---------------------------------------------------------------------------\u001b[0m",
      "\u001b[0;31mNameError\u001b[0m                                 Traceback (most recent call last)",
      "Cell \u001b[0;32mIn[9], line 1\u001b[0m\n\u001b[0;32m----> 1\u001b[0m device \u001b[38;5;241m=\u001b[39m qml\u001b[38;5;241m.\u001b[39mdevice(\u001b[38;5;124m\"\u001b[39m\u001b[38;5;124mdefault.qubit\u001b[39m\u001b[38;5;124m\"\u001b[39m, wires\u001b[38;5;241m=\u001b[39m\u001b[43mH\u001b[49m\u001b[38;5;241m.\u001b[39mwires)\n",
      "\u001b[0;31mNameError\u001b[0m: name 'H' is not defined"
     ]
    }
   ],
   "source": [
    "device = qml.device(\"default.qubit\", wires=H.wires)"
   ]
  },
  {
   "cell_type": "code",
   "execution_count": 20,
   "id": "a2aa4b99-cde4-4c4c-b846-5183961bb2d9",
   "metadata": {},
   "outputs": [],
   "source": [
    "@qml.qnode(device)\n",
    "def optimize_circuit(params):\n",
    "    for param, wire in zip(params, H.wires):\n",
    "        qml.RY(param, wires=wire)\n",
    "    return qml.expval(H)"
   ]
  },
  {
   "cell_type": "code",
   "execution_count": 21,
   "id": "df03ca8c-015c-4adf-834d-cf39c6c913b8",
   "metadata": {},
   "outputs": [
    {
     "name": "stdout",
     "output_type": "stream",
     "text": [
      "[*] epoch=0 : [0.70489607 0.88236221 1.00367361 0.48573707 1.04853627]\n",
      "[*] epoch=1 : [0.77652737 0.95357536 1.07417711 0.56116959 1.118807  ]\n",
      "[*] epoch=2 : [0.83436954 1.01115725 1.13087402 0.6238906  1.17521255]\n",
      "[*] epoch=3 : [0.88344513 1.06024285 1.17902257 0.67828707 1.22305136]\n",
      "[*] epoch=4 : [0.92621328 1.10332502 1.22115928 0.72660861 1.26487441]\n",
      "[*] epoch=5 : [0.96410487 1.14184831 1.25874731 0.77021066 1.30215113]\n",
      "[*] epoch=6 : [0.99804411 1.17674509 1.29272769 0.80999432 1.33582554]\n",
      "[*] epoch=7 : [1.02867143 1.20866299 1.32375211 0.84660016 1.36655083]\n",
      "[*] epoch=8 : [1.05645367 1.2380766  1.35229687 0.88050643 1.39480398]\n",
      "[*] epoch=9 : [1.08174421 1.26534819 1.37872472 0.91208388 1.42094804]\n",
      "[*] epoch=10 : [1.10481855 1.29076347 1.40332113 0.94162873 1.44526845]\n",
      "[*] epoch=11 : [1.12589653 1.31455378 1.42631677 0.96938353 1.46799577]\n",
      "[*] epoch=12 : [1.14515679 1.33691065 1.44790224 0.99555105 1.48932034]\n",
      "[*] epoch=13 : [1.16274674 1.35799564 1.468238   1.02030384 1.50940231]\n",
      "[*] epoch=14 : [1.17878946 1.37794724 1.48746133 1.043791   1.52837861]\n",
      "[*] epoch=15 : [1.19338871 1.39688584 1.50569137 1.0661431  1.54636799]\n",
      "[*] epoch=16 : [1.20663264 1.41491743 1.52303277 1.08747587 1.56347468]\n",
      "[*] epoch=17 : [1.21859654 1.43213631 1.53957849 1.10789297 1.57979122]\n",
      "[*] epoch=18 : [1.22934503 1.44862726 1.5554119  1.12748815 1.59540054]\n",
      "[*] epoch=19 : [1.23893367 1.4644671  1.57060845 1.14634691 1.61037764]\n",
      "[*] epoch=20 : [1.24741028 1.47972606 1.58523695 1.16454782 1.62479084]\n",
      "[*] epoch=21 : [1.25481604 1.49446876 1.59936059 1.1821636  1.6387029 ]\n",
      "[*] epoch=22 : [1.26118635 1.50875509 1.61303782 1.19926195 1.65217176]\n",
      "[*] epoch=23 : [1.26655151 1.52264079 1.62632296 1.21590625 1.66525129]\n",
      "[*] epoch=24 : [1.27093739 1.5361781  1.6392668  1.23215614 1.67799177]\n",
      "[*] epoch=25 : [1.27436592 1.54941613 1.65191702 1.24806791 1.69044039]\n",
      "[*] epoch=26 : [1.27685559 1.56240127 1.66431855 1.26369496 1.7026416 ]\n",
      "[*] epoch=27 : [1.27842186 1.57517744 1.67651389 1.27908801 1.71463742]\n",
      "[*] epoch=28 : [1.27907757 1.58778637 1.68854334 1.29429538 1.72646765]\n",
      "[*] epoch=29 : [1.27883332 1.60026777 1.70044519 1.30936313 1.73817008]\n",
      "[*] epoch=30 : [1.27769784 1.61265944 1.71225586 1.32433522 1.74978067]\n",
      "[*] epoch=31 : [1.27567838 1.62499743 1.72401001 1.33925355 1.76133359]\n",
      "[*] epoch=32 : [1.27278107 1.63731605 1.73574061 1.35415801 1.77286134]\n",
      "[*] epoch=33 : [1.26901131 1.64964791 1.74747899 1.36908648 1.78439477]\n",
      "[*] epoch=34 : [1.2643742  1.66202395 1.7592548  1.38407478 1.79596312]\n",
      "[*] epoch=35 : [1.25887492 1.67447336 1.77109604 1.39915658 1.80759395]\n",
      "[*] epoch=36 : [1.25251919 1.68702354 1.783029   1.41436335 1.81931313]\n",
      "[*] epoch=37 : [1.24531366 1.69970002 1.79507814 1.42972412 1.83114475]\n",
      "[*] epoch=38 : [1.2372664  1.71252637 1.80726608 1.44526545 1.84311107]\n",
      "[*] epoch=39 : [1.22838727 1.72552402 1.81961341 1.46101115 1.85523236]\n",
      "[*] epoch=40 : [1.21868838 1.73871219 1.83213861 1.47698215 1.86752682]\n",
      "[*] epoch=41 : [1.20818443 1.75210772 1.84485792 1.49319632 1.88001046]\n",
      "[*] epoch=42 : [1.19689306 1.7657249  1.85778519 1.50966826 1.89269694]\n",
      "[*] epoch=43 : [1.18483512 1.77957539 1.87093179 1.52640916 1.90559749]\n",
      "[*] epoch=44 : [1.17203487 1.79366804 1.88430644 1.54342667 1.91872075]\n",
      "[*] epoch=45 : [1.1585201  1.80800885 1.89791518 1.56072482 1.93207272]\n",
      "[*] epoch=46 : [1.14432215 1.82260083 1.91176125 1.57830392 1.94565671]\n",
      "[*] epoch=47 : [1.1294758  1.83744403 1.9258451  1.59616065 1.95947323]\n",
      "[*] epoch=48 : [1.11401911 1.85253552 1.94016436 1.61428808 1.97352009]\n",
      "[*] epoch=49 : [1.09799317 1.86786945 1.95471392 1.63267579 1.98779239]\n",
      "[*] epoch=50 : [1.08144166 1.88343716 1.96948599 1.65131013 2.00228259]\n",
      "[*] epoch=51 : [1.06441046 1.89922734 1.98447026 1.67017445 2.01698072]\n",
      "[*] epoch=52 : [1.04694713 1.91522621 1.99965409 1.6892494  2.03187448]\n",
      "[*] epoch=53 : [1.02910038 1.93141779 2.01502271 1.70851332 2.0469495 ]\n",
      "[*] epoch=54 : [1.0109195  1.94778417 2.03055948 1.72794263 2.06218956]\n",
      "[*] epoch=55 : [0.99245383 1.96430579 2.04624617 1.74751221 2.07757687]\n",
      "[*] epoch=56 : [0.97375224 1.98096181 2.06206327 1.76719589 2.09309238]\n",
      "[*] epoch=57 : [0.95486262 1.99773037 2.07799028 1.7869668  2.10871603]\n",
      "[*] epoch=58 : [0.93583146 2.014589   2.094006   1.8067978  2.12442708]\n",
      "[*] epoch=59 : [0.91670349 2.03151486 2.11008886 1.82666183 2.14020442]\n",
      "[*] epoch=60 : [0.89752133 2.04848508 2.12621718 1.84653229 2.15602678]\n",
      "[*] epoch=61 : [0.8783253  2.06547701 2.14236944 1.86638327 2.17187304]\n",
      "[*] epoch=62 : [0.85915322 2.08246847 2.15852448 1.88618984 2.18772242]\n",
      "[*] epoch=63 : [0.84004026 2.09943796 2.17466175 1.90592824 2.20355473]\n",
      "[*] epoch=64 : [0.82101894 2.11636484 2.19076144 1.92557605 2.21935047]\n",
      "[*] epoch=65 : [0.80211908 2.13322945 2.20680465 1.94511228 2.23509103]\n",
      "[*] epoch=66 : [0.78336783 2.15001326 2.22277348 1.96451748 2.25075877]\n",
      "[*] epoch=67 : [0.76478973 2.1666989  2.23865114 1.98377375 2.26633713]\n",
      "[*] epoch=68 : [0.74640683 2.18327026 2.25442197 2.00286477 2.28181064]\n",
      "[*] epoch=69 : [0.72823876 2.19971248 2.2700715  2.02177579 2.29716501]\n",
      "[*] epoch=70 : [0.71030288 2.21601197 2.28558644 2.0404936  2.31238708]\n",
      "[*] epoch=71 : [0.69261439 2.23215641 2.30095472 2.05900646 2.32746491]\n",
      "[*] epoch=72 : [0.67518652 2.2481347  2.31616541 2.07730404 2.34238764]\n",
      "[*] epoch=73 : [0.65803062 2.26393693 2.33120871 2.09537735 2.35714557]\n",
      "[*] epoch=74 : [0.6411563  2.27955434 2.34607593 2.11321869 2.37173006]\n",
      "[*] epoch=75 : [0.62457163 2.29497924 2.36075941 2.13082152 2.38613349]\n",
      "[*] epoch=76 : [0.60828321 2.31020499 2.3752525  2.1481804  2.40034923]\n",
      "[*] epoch=77 : [0.59229631 2.32522589 2.38954946 2.16529092 2.41437156]\n",
      "[*] epoch=78 : [0.57661501 2.34003717 2.40364543 2.18214959 2.42819563]\n",
      "[*] epoch=79 : [0.56124232 2.35463486 2.41753637 2.19875376 2.44181739]\n",
      "[*] epoch=80 : [0.54618024 2.3690158  2.431219   2.21510158 2.45523353]\n",
      "[*] epoch=81 : [0.5314299  2.3831775  2.44469071 2.23119189 2.46844145]\n",
      "[*] epoch=82 : [0.51699163 2.39711815 2.45794956 2.24702415 2.48143917]\n",
      "[*] epoch=83 : [0.50286506 2.41083653 2.47099417 2.26259843 2.49422528]\n",
      "[*] epoch=84 : [0.4890492  2.42433194 2.48382371 2.27791526 2.50679893]\n",
      "[*] epoch=85 : [0.47554245 2.43760419 2.49643784 2.29297567 2.51915972]\n",
      "[*] epoch=86 : [0.46234277 2.45065353 2.50883662 2.30778105 2.53130772]\n",
      "[*] epoch=87 : [0.44944764 2.46348058 2.52102056 2.32233319 2.54324336]\n",
      "[*] epoch=88 : [0.43685416 2.47608634 2.53299048 2.33663416 2.55496745]\n",
      "[*] epoch=89 : [0.42455909 2.48847211 2.54474754 2.35068631 2.56648111]\n",
      "[*] epoch=90 : [0.41255891 2.50063948 2.55629318 2.36449224 2.57778572]\n",
      "[*] epoch=91 : [0.40084982 2.5125903  2.56762908 2.37805474 2.58888295]\n",
      "[*] epoch=92 : [0.3894278  2.52432659 2.57875715 2.39137678 2.59977466]\n",
      "[*] epoch=93 : [0.37828865 2.53585062 2.58967949 2.40446149 2.61046292]\n",
      "[*] epoch=94 : [0.36742801 2.54716478 2.60039839 2.41731212 2.62094997]\n",
      "[*] epoch=95 : [0.35684136 2.55827163 2.61091624 2.42993201 2.63123818]\n",
      "[*] epoch=96 : [0.3465241  2.56917383 2.62123561 2.44232459 2.64133008]\n",
      "[*] epoch=97 : [0.33647151 2.57987415 2.63135913 2.45449337 2.65122829]\n",
      "[*] epoch=98 : [0.32667882 2.59037546 2.64128956 2.46644188 2.6609355 ]\n",
      "[*] epoch=99 : [0.31714118 2.60068067 2.65102971 2.47817373 2.67045452]\n",
      "[*] epoch=100 : [0.30785371 2.61079279 2.66058245 2.48969251 2.67978819]\n",
      "[*] epoch=101 : [0.29881152 2.62071482 2.66995071 2.50100185 2.68893941]\n",
      "[*] epoch=102 : [0.29000967 2.63044984 2.67913747 2.51210538 2.69791111]\n",
      "[*] epoch=103 : [0.28144326 2.64000093 2.6881457  2.52300671 2.70670626]\n",
      "[*] epoch=104 : [0.27310734 2.64937118 2.69697841 2.53370946 2.71532785]\n",
      "[*] epoch=105 : [0.26499703 2.6585637  2.70563863 2.54421721 2.72377887]\n",
      "[*] epoch=106 : [0.25710743 2.66758158 2.71412936 2.55453352 2.73206232]\n",
      "[*] epoch=107 : [0.24943369 2.67642792 2.72245363 2.56466192 2.74018119]\n",
      "[*] epoch=108 : [0.241971   2.6851058  2.73061445 2.57460591 2.74813846]\n",
      "[*] epoch=109 : [0.23471457 2.69361828 2.73861479 2.58436895 2.75593711]\n",
      "[*] epoch=110 : [0.22765968 2.70196839 2.74645763 2.59395444 2.76358009]\n",
      "[*] epoch=111 : [0.22080164 2.71015914 2.75414592 2.60336577 2.77107033]\n",
      "[*] epoch=112 : [0.21413583 2.71819351 2.76168257 2.61260624 2.77841072]\n",
      "[*] epoch=113 : [0.20765767 2.72607446 2.76907048 2.62167913 2.78560415]\n",
      "[*] epoch=114 : [0.20136266 2.73380488 2.77631249 2.63058767 2.79265345]\n",
      "[*] epoch=115 : [0.19524635 2.74138766 2.78341143 2.63933501 2.79956142]\n",
      "[*] epoch=116 : [0.18930436 2.74882562 2.79037008 2.64792428 2.80633084]\n",
      "[*] epoch=117 : [0.18353238 2.75612157 2.79719119 2.65635854 2.81296443]\n",
      "[*] epoch=118 : [0.17792616 2.76327824 2.80387745 2.66464079 2.81946489]\n",
      "[*] epoch=119 : [0.17248152 2.77029835 2.81043153 2.67277399 2.82583486]\n",
      "[*] epoch=120 : [0.16719437 2.77718456 2.81685605 2.68076103 2.83207696]\n",
      "[*] epoch=121 : [0.16206067 2.78393949 2.82315358 2.68860475 2.83819374]\n",
      "[*] epoch=122 : [0.15707647 2.79056571 2.82932667 2.69630794 2.84418774]\n",
      "[*] epoch=123 : [0.15223788 2.79706575 2.83537779 2.70387334 2.85006143]\n",
      "[*] epoch=124 : [0.14754109 2.80344209 2.8413094  2.71130361 2.85581724]\n",
      "[*] epoch=125 : [0.14298237 2.80969717 2.8471239  2.71860139 2.86145757]\n",
      "[*] epoch=126 : [0.13855805 2.81583338 2.85282364 2.72576925 2.86698476]\n",
      "[*] epoch=127 : [0.13426454 2.82185307 2.85841094 2.7328097  2.87240112]\n",
      "[*] epoch=128 : [0.13009835 2.82775853 2.86388806 2.73972521 2.8777089 ]\n",
      "[*] epoch=129 : [0.12605601 2.83355203 2.86925723 2.7465182  2.88291033]\n",
      "[*] epoch=130 : [0.12213418 2.83923577 2.87452064 2.75319103 2.88800758]\n",
      "[*] epoch=131 : [0.11832955 2.84481194 2.87968043 2.75974601 2.89300277]\n",
      "[*] epoch=132 : [0.11463892 2.85028264 2.88473868 2.76618543 2.897898  ]\n",
      "[*] epoch=133 : [0.11105912 2.85564997 2.88969746 2.77251149 2.90269531]\n",
      "[*] epoch=134 : [0.10758709 2.86091597 2.89455878 2.77872636 2.90739671]\n",
      "[*] epoch=135 : [0.10421982 2.86608264 2.89932462 2.78483218 2.91200417]\n",
      "[*] epoch=136 : [0.10095437 2.87115192 2.9039969  2.79083102 2.9165196 ]\n",
      "[*] epoch=137 : [0.09778787 2.87612576 2.90857752 2.79672492 2.92094489]\n",
      "[*] epoch=138 : [0.09471754 2.88100601 2.91306834 2.80251587 2.92528189]\n",
      "[*] epoch=139 : [0.09174064 2.88579454 2.91747116 2.80820583 2.92953241]\n",
      "[*] epoch=140 : [0.0888545  2.89049312 2.92178777 2.81379671 2.93369821]\n",
      "[*] epoch=141 : [0.08605652 2.89510354 2.92601992 2.81929037 2.93778104]\n",
      "[*] epoch=142 : [0.08334418 2.89962752 2.93016929 2.82468863 2.94178258]\n",
      "[*] epoch=143 : [0.080715   2.90406676 2.93423758 2.82999331 2.9457045 ]\n",
      "[*] epoch=144 : [0.07816657 2.9084229  2.9382264  2.83520613 2.94954843]\n",
      "[*] epoch=145 : [0.07569654 2.91269758 2.94213736 2.84032883 2.95331595]\n",
      "[*] epoch=146 : [0.07330264 2.91689238 2.94597202 2.84536307 2.95700863]\n",
      "[*] epoch=147 : [0.07098262 2.92100886 2.94973193 2.8503105  2.96062799]\n",
      "[*] epoch=148 : [0.06873432 2.92504855 2.95341858 2.85517274 2.96417553]\n",
      "[*] epoch=149 : [0.06655563 2.92901292 2.95703344 2.85995135 2.9676527 ]\n",
      "[*] epoch=150 : [0.0644445  2.93290346 2.96057795 2.86464788 2.97106095]\n",
      "[*] epoch=151 : [0.06239891 2.93672158 2.96405352 2.86926384 2.97440166]\n",
      "[*] epoch=152 : [0.06041693 2.94046869 2.96746153 2.8738007  2.97767622]\n",
      "[*] epoch=153 : [0.05849665 2.94414616 2.97080332 2.87825991 2.98088596]\n",
      "[*] epoch=154 : [0.05663623 2.94775533 2.97408023 2.8826429  2.98403219]\n",
      "[*] epoch=155 : [0.05483389 2.95129752 2.97729355 2.88695104 2.98711621]\n",
      "[*] epoch=156 : [0.05308787 2.95477402 2.98044454 2.89118571 2.99013927]\n",
      "[*] epoch=157 : [0.05139648 2.95818609 2.98353444 2.89534822 2.99310261]\n",
      "[*] epoch=158 : [0.04975806 2.96153496 2.98656447 2.8994399  2.99600743]\n",
      "[*] epoch=159 : [0.04817103 2.96482185 2.98953582 2.903462   2.99885491]\n",
      "[*] epoch=160 : [0.04663382 2.96804795 2.99244965 2.90741579 3.00164621]\n",
      "[*] epoch=161 : [0.04514491 2.9712144  2.99530711 2.9113025  3.00438245]\n",
      "[*] epoch=162 : [0.04370283 2.97432236 2.9981093  2.91512331 3.00706476]\n",
      "[*] epoch=163 : [0.04230617 2.97737293 3.00085733 2.91887943 3.00969421]\n",
      "[*] epoch=164 : [0.04095352 2.98036721 3.00355226 2.92257198 3.01227186]\n",
      "[*] epoch=165 : [0.03964353 2.98330627 3.00619514 2.92620212 3.01479876]\n",
      "[*] epoch=166 : [0.03837491 2.98619116 3.008787   2.92977095 3.01727592]\n",
      "[*] epoch=167 : [0.03714638 2.9890229  3.01132884 2.93327955 3.01970435]\n",
      "[*] epoch=168 : [0.0359567  2.99180249 3.01382166 2.93672899 3.022085  ]\n",
      "[*] epoch=169 : [0.03480468 2.99453094 3.0162664  2.94012031 3.02441885]\n",
      "[*] epoch=170 : [0.03368915 2.99720919 3.01866403 2.94345455 3.02670683]\n",
      "[*] epoch=171 : [0.03260898 2.9998382  3.02101546 2.9467327  3.02894985]\n",
      "[*] epoch=172 : [0.03156307 3.0024189  3.0233216  2.94995574 3.03114881]\n",
      "[*] epoch=173 : [0.03055037 3.0049522  3.02558334 2.95312465 3.0333046 ]\n",
      "[*] epoch=174 : [0.02956984 3.00743898 3.02780155 2.95624037 3.03541806]\n",
      "[*] epoch=175 : [0.02862048 3.00988012 3.02997707 2.95930383 3.03749005]\n",
      "[*] epoch=176 : [0.02770131 3.01227648 3.03211075 2.96231594 3.03952139]\n",
      "[*] epoch=177 : [0.02681141 3.0146289  3.03420341 2.9652776  3.04151289]\n",
      "[*] epoch=178 : [0.02594984 3.01693819 3.03625584 2.96818967 3.04346534]\n",
      "[*] epoch=179 : [0.02511572 3.01920517 3.03826882 2.97105303 3.04537951]\n",
      "[*] epoch=180 : [0.02430821 3.02143063 3.04024313 2.97386851 3.04725617]\n",
      "[*] epoch=181 : [0.02352645 3.02361534 3.04217953 2.97663695 3.04909606]\n",
      "[*] epoch=182 : [0.02276964 3.02576006 3.04407874 2.97935915 3.05089991]\n",
      "[*] epoch=183 : [0.022037   3.02786553 3.0459415  2.98203591 3.05266843]\n",
      "[*] epoch=184 : [0.02132777 3.0299325  3.0477685  2.98466801 3.05440233]\n",
      "[*] epoch=185 : [0.0206412  3.03196167 3.04956046 2.98725623 3.05610228]\n",
      "[*] epoch=186 : [0.01997659 3.03395375 3.05131803 2.98980132 3.05776897]\n",
      "[*] epoch=187 : [0.01933325 3.03590942 3.05304191 2.99230401 3.05940304]\n",
      "[*] epoch=188 : [0.0187105  3.03782936 3.05473273 2.99476503 3.06100514]\n",
      "[*] epoch=189 : [0.01810768 3.03971424 3.05639114 2.99718509 3.06257591]\n",
      "[*] epoch=190 : [0.01752418 3.04156471 3.05801777 2.9995649  3.06411596]\n",
      "[*] epoch=191 : [0.01695937 3.04338139 3.05961322 3.00190514 3.0656259 ]\n",
      "[*] epoch=192 : [0.01641268 3.04516492 3.06117812 3.00420649 3.06710632]\n",
      "[*] epoch=193 : [0.01588351 3.04691591 3.06271304 3.0064696  3.06855781]\n",
      "[*] epoch=194 : [0.01537132 3.04863496 3.06421856 3.00869513 3.06998093]\n",
      "[*] epoch=195 : [0.01487556 3.05032267 3.06569526 3.01088372 3.07137624]\n",
      "[*] epoch=196 : [0.01439572 3.0519796  3.06714369 3.01303598 3.07274429]\n",
      "[*] epoch=197 : [0.01393129 3.05360633 3.06856439 3.01515255 3.07408562]\n",
      "[*] epoch=198 : [0.01348177 3.05520341 3.06995791 3.01723402 3.07540076]\n",
      "[*] epoch=199 : [0.0130467  3.0567714  3.07132476 3.01928098 3.07669021]\n"
     ]
    },
    {
     "data": {
      "text/plain": [
       "tensor([0.0130467 , 3.0567714 , 3.07132476, 3.01928098, 3.07669021], requires_grad=True)"
      ]
     },
     "execution_count": 21,
     "metadata": {},
     "output_type": "execute_result"
    }
   ],
   "source": [
    "params = np.random.rand(len(H.wires))\n",
    "optimizer = qml.AdagradOptimizer(stepsize=0.1)\n",
    "epochs = 200\n",
    "\n",
    "for epoch in range(epochs):\n",
    "    params = optimizer.step(optimize_circuit, params)\n",
    "    print(f\"[*] epoch={epoch} : {params}\")\n",
    "params"
   ]
  },
  {
   "cell_type": "code",
   "execution_count": 22,
   "id": "1d9daf43-3e48-478c-be9f-576a0b9a54a1",
   "metadata": {},
   "outputs": [],
   "source": [
    "device2 = qml.device(\"default.qubit\", wires=H.wires, shots=1)"
   ]
  },
  {
   "cell_type": "code",
   "execution_count": 23,
   "id": "62de6eb1-1746-4ec2-a96e-ab9c940ac913",
   "metadata": {},
   "outputs": [],
   "source": [
    "@qml.qnode(device2)\n",
    "def eval_circuit(params):\n",
    "    for param, wire in zip(params, H.wires):\n",
    "        qml.RY(param, wires=wire)\n",
    "    return qml.sample()"
   ]
  },
  {
   "cell_type": "code",
   "execution_count": 24,
   "id": "2ddaf4f6-13d6-41bf-a3da-c9765a306036",
   "metadata": {},
   "outputs": [
    {
     "data": {
      "text/plain": [
       "array([0, 1, 1, 1, 1])"
      ]
     },
     "execution_count": 24,
     "metadata": {},
     "output_type": "execute_result"
    }
   ],
   "source": [
    "eval_circuit(params)"
   ]
  }
 ],
 "metadata": {
  "kernelspec": {
   "display_name": "Python 3 (ipykernel)",
   "language": "python",
   "name": "python3"
  },
  "language_info": {
   "codemirror_mode": {
    "name": "ipython",
    "version": 3
   },
   "file_extension": ".py",
   "mimetype": "text/x-python",
   "name": "python",
   "nbconvert_exporter": "python",
   "pygments_lexer": "ipython3",
   "version": "3.10.14"
  }
 },
 "nbformat": 4,
 "nbformat_minor": 5
}
